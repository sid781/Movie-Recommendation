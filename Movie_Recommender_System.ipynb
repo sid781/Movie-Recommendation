{
 "cells": [
  {
   "cell_type": "code",
   "execution_count": 1,
   "id": "2d66e1de",
   "metadata": {
    "id": "2d66e1de",
    "outputId": "78b7a9f6-4c65-470c-cd99-dd4db72df3a8",
    "pycharm": {
     "name": "#%%\n"
    }
   },
   "outputs": [
    {
     "data": {
      "text/plain": "   movie_id                                     title  \\\n0     19995                                    Avatar   \n1       285  Pirates of the Caribbean: At World's End   \n2    206647                                   Spectre   \n3     49026                     The Dark Knight Rises   \n4     49529                               John Carter   \n\n                                                cast  \\\n0  [{\"cast_id\": 242, \"character\": \"Jake Sully\", \"...   \n1  [{\"cast_id\": 4, \"character\": \"Captain Jack Spa...   \n2  [{\"cast_id\": 1, \"character\": \"James Bond\", \"cr...   \n3  [{\"cast_id\": 2, \"character\": \"Bruce Wayne / Ba...   \n4  [{\"cast_id\": 5, \"character\": \"John Carter\", \"c...   \n\n                                                crew  \n0  [{\"credit_id\": \"52fe48009251416c750aca23\", \"de...  \n1  [{\"credit_id\": \"52fe4232c3a36847f800b579\", \"de...  \n2  [{\"credit_id\": \"54805967c3a36829b5002c41\", \"de...  \n3  [{\"credit_id\": \"52fe4781c3a36847f81398c3\", \"de...  \n4  [{\"credit_id\": \"52fe479ac3a36847f813eaa3\", \"de...  ",
      "text/html": "<div>\n<style scoped>\n    .dataframe tbody tr th:only-of-type {\n        vertical-align: middle;\n    }\n\n    .dataframe tbody tr th {\n        vertical-align: top;\n    }\n\n    .dataframe thead th {\n        text-align: right;\n    }\n</style>\n<table border=\"1\" class=\"dataframe\">\n  <thead>\n    <tr style=\"text-align: right;\">\n      <th></th>\n      <th>movie_id</th>\n      <th>title</th>\n      <th>cast</th>\n      <th>crew</th>\n    </tr>\n  </thead>\n  <tbody>\n    <tr>\n      <th>0</th>\n      <td>19995</td>\n      <td>Avatar</td>\n      <td>[{\"cast_id\": 242, \"character\": \"Jake Sully\", \"...</td>\n      <td>[{\"credit_id\": \"52fe48009251416c750aca23\", \"de...</td>\n    </tr>\n    <tr>\n      <th>1</th>\n      <td>285</td>\n      <td>Pirates of the Caribbean: At World's End</td>\n      <td>[{\"cast_id\": 4, \"character\": \"Captain Jack Spa...</td>\n      <td>[{\"credit_id\": \"52fe4232c3a36847f800b579\", \"de...</td>\n    </tr>\n    <tr>\n      <th>2</th>\n      <td>206647</td>\n      <td>Spectre</td>\n      <td>[{\"cast_id\": 1, \"character\": \"James Bond\", \"cr...</td>\n      <td>[{\"credit_id\": \"54805967c3a36829b5002c41\", \"de...</td>\n    </tr>\n    <tr>\n      <th>3</th>\n      <td>49026</td>\n      <td>The Dark Knight Rises</td>\n      <td>[{\"cast_id\": 2, \"character\": \"Bruce Wayne / Ba...</td>\n      <td>[{\"credit_id\": \"52fe4781c3a36847f81398c3\", \"de...</td>\n    </tr>\n    <tr>\n      <th>4</th>\n      <td>49529</td>\n      <td>John Carter</td>\n      <td>[{\"cast_id\": 5, \"character\": \"John Carter\", \"c...</td>\n      <td>[{\"credit_id\": \"52fe479ac3a36847f813eaa3\", \"de...</td>\n    </tr>\n  </tbody>\n</table>\n</div>"
     },
     "execution_count": 1,
     "metadata": {},
     "output_type": "execute_result"
    }
   ],
   "source": [
    "import pandas as pd\n",
    "import numpy as np\n",
    "credits = pd.read_csv(\"tmdb_5000_credits.csv\")\n",
    "movies = pd.read_csv(\"tmdb_5000_movies.csv\")\n",
    "credits.head()"
   ]
  },
  {
   "cell_type": "code",
   "execution_count": 2,
   "id": "68e1e144",
   "metadata": {
    "id": "68e1e144",
    "outputId": "2d7cfb32-3dcd-4487-ebe6-9288c99ca2aa",
    "pycharm": {
     "name": "#%%\n"
    }
   },
   "outputs": [
    {
     "data": {
      "text/plain": "      budget                                             genres  \\\n0  237000000  [{\"id\": 28, \"name\": \"Action\"}, {\"id\": 12, \"nam...   \n1  300000000  [{\"id\": 12, \"name\": \"Adventure\"}, {\"id\": 14, \"...   \n2  245000000  [{\"id\": 28, \"name\": \"Action\"}, {\"id\": 12, \"nam...   \n3  250000000  [{\"id\": 28, \"name\": \"Action\"}, {\"id\": 80, \"nam...   \n4  260000000  [{\"id\": 28, \"name\": \"Action\"}, {\"id\": 12, \"nam...   \n\n                                       homepage      id  \\\n0                   http://www.avatarmovie.com/   19995   \n1  http://disney.go.com/disneypictures/pirates/     285   \n2   http://www.sonypictures.com/movies/spectre/  206647   \n3            http://www.thedarkknightrises.com/   49026   \n4          http://movies.disney.com/john-carter   49529   \n\n                                            keywords original_language  \\\n0  [{\"id\": 1463, \"name\": \"culture clash\"}, {\"id\":...                en   \n1  [{\"id\": 270, \"name\": \"ocean\"}, {\"id\": 726, \"na...                en   \n2  [{\"id\": 470, \"name\": \"spy\"}, {\"id\": 818, \"name...                en   \n3  [{\"id\": 849, \"name\": \"dc comics\"}, {\"id\": 853,...                en   \n4  [{\"id\": 818, \"name\": \"based on novel\"}, {\"id\":...                en   \n\n                             original_title  \\\n0                                    Avatar   \n1  Pirates of the Caribbean: At World's End   \n2                                   Spectre   \n3                     The Dark Knight Rises   \n4                               John Carter   \n\n                                            overview  popularity  \\\n0  In the 22nd century, a paraplegic Marine is di...  150.437577   \n1  Captain Barbossa, long believed to be dead, ha...  139.082615   \n2  A cryptic message from Bond’s past sends him o...  107.376788   \n3  Following the death of District Attorney Harve...  112.312950   \n4  John Carter is a war-weary, former military ca...   43.926995   \n\n                                production_companies  \\\n0  [{\"name\": \"Ingenious Film Partners\", \"id\": 289...   \n1  [{\"name\": \"Walt Disney Pictures\", \"id\": 2}, {\"...   \n2  [{\"name\": \"Columbia Pictures\", \"id\": 5}, {\"nam...   \n3  [{\"name\": \"Legendary Pictures\", \"id\": 923}, {\"...   \n4        [{\"name\": \"Walt Disney Pictures\", \"id\": 2}]   \n\n                                production_countries release_date     revenue  \\\n0  [{\"iso_3166_1\": \"US\", \"name\": \"United States o...   2009-12-10  2787965087   \n1  [{\"iso_3166_1\": \"US\", \"name\": \"United States o...   2007-05-19   961000000   \n2  [{\"iso_3166_1\": \"GB\", \"name\": \"United Kingdom\"...   2015-10-26   880674609   \n3  [{\"iso_3166_1\": \"US\", \"name\": \"United States o...   2012-07-16  1084939099   \n4  [{\"iso_3166_1\": \"US\", \"name\": \"United States o...   2012-03-07   284139100   \n\n   runtime                                   spoken_languages    status  \\\n0    162.0  [{\"iso_639_1\": \"en\", \"name\": \"English\"}, {\"iso...  Released   \n1    169.0           [{\"iso_639_1\": \"en\", \"name\": \"English\"}]  Released   \n2    148.0  [{\"iso_639_1\": \"fr\", \"name\": \"Fran\\u00e7ais\"},...  Released   \n3    165.0           [{\"iso_639_1\": \"en\", \"name\": \"English\"}]  Released   \n4    132.0           [{\"iso_639_1\": \"en\", \"name\": \"English\"}]  Released   \n\n                                          tagline  \\\n0                     Enter the World of Pandora.   \n1  At the end of the world, the adventure begins.   \n2                           A Plan No One Escapes   \n3                                 The Legend Ends   \n4            Lost in our world, found in another.   \n\n                                      title  vote_average  vote_count  \n0                                    Avatar           7.2       11800  \n1  Pirates of the Caribbean: At World's End           6.9        4500  \n2                                   Spectre           6.3        4466  \n3                     The Dark Knight Rises           7.6        9106  \n4                               John Carter           6.1        2124  ",
      "text/html": "<div>\n<style scoped>\n    .dataframe tbody tr th:only-of-type {\n        vertical-align: middle;\n    }\n\n    .dataframe tbody tr th {\n        vertical-align: top;\n    }\n\n    .dataframe thead th {\n        text-align: right;\n    }\n</style>\n<table border=\"1\" class=\"dataframe\">\n  <thead>\n    <tr style=\"text-align: right;\">\n      <th></th>\n      <th>budget</th>\n      <th>genres</th>\n      <th>homepage</th>\n      <th>id</th>\n      <th>keywords</th>\n      <th>original_language</th>\n      <th>original_title</th>\n      <th>overview</th>\n      <th>popularity</th>\n      <th>production_companies</th>\n      <th>production_countries</th>\n      <th>release_date</th>\n      <th>revenue</th>\n      <th>runtime</th>\n      <th>spoken_languages</th>\n      <th>status</th>\n      <th>tagline</th>\n      <th>title</th>\n      <th>vote_average</th>\n      <th>vote_count</th>\n    </tr>\n  </thead>\n  <tbody>\n    <tr>\n      <th>0</th>\n      <td>237000000</td>\n      <td>[{\"id\": 28, \"name\": \"Action\"}, {\"id\": 12, \"nam...</td>\n      <td>http://www.avatarmovie.com/</td>\n      <td>19995</td>\n      <td>[{\"id\": 1463, \"name\": \"culture clash\"}, {\"id\":...</td>\n      <td>en</td>\n      <td>Avatar</td>\n      <td>In the 22nd century, a paraplegic Marine is di...</td>\n      <td>150.437577</td>\n      <td>[{\"name\": \"Ingenious Film Partners\", \"id\": 289...</td>\n      <td>[{\"iso_3166_1\": \"US\", \"name\": \"United States o...</td>\n      <td>2009-12-10</td>\n      <td>2787965087</td>\n      <td>162.0</td>\n      <td>[{\"iso_639_1\": \"en\", \"name\": \"English\"}, {\"iso...</td>\n      <td>Released</td>\n      <td>Enter the World of Pandora.</td>\n      <td>Avatar</td>\n      <td>7.2</td>\n      <td>11800</td>\n    </tr>\n    <tr>\n      <th>1</th>\n      <td>300000000</td>\n      <td>[{\"id\": 12, \"name\": \"Adventure\"}, {\"id\": 14, \"...</td>\n      <td>http://disney.go.com/disneypictures/pirates/</td>\n      <td>285</td>\n      <td>[{\"id\": 270, \"name\": \"ocean\"}, {\"id\": 726, \"na...</td>\n      <td>en</td>\n      <td>Pirates of the Caribbean: At World's End</td>\n      <td>Captain Barbossa, long believed to be dead, ha...</td>\n      <td>139.082615</td>\n      <td>[{\"name\": \"Walt Disney Pictures\", \"id\": 2}, {\"...</td>\n      <td>[{\"iso_3166_1\": \"US\", \"name\": \"United States o...</td>\n      <td>2007-05-19</td>\n      <td>961000000</td>\n      <td>169.0</td>\n      <td>[{\"iso_639_1\": \"en\", \"name\": \"English\"}]</td>\n      <td>Released</td>\n      <td>At the end of the world, the adventure begins.</td>\n      <td>Pirates of the Caribbean: At World's End</td>\n      <td>6.9</td>\n      <td>4500</td>\n    </tr>\n    <tr>\n      <th>2</th>\n      <td>245000000</td>\n      <td>[{\"id\": 28, \"name\": \"Action\"}, {\"id\": 12, \"nam...</td>\n      <td>http://www.sonypictures.com/movies/spectre/</td>\n      <td>206647</td>\n      <td>[{\"id\": 470, \"name\": \"spy\"}, {\"id\": 818, \"name...</td>\n      <td>en</td>\n      <td>Spectre</td>\n      <td>A cryptic message from Bond’s past sends him o...</td>\n      <td>107.376788</td>\n      <td>[{\"name\": \"Columbia Pictures\", \"id\": 5}, {\"nam...</td>\n      <td>[{\"iso_3166_1\": \"GB\", \"name\": \"United Kingdom\"...</td>\n      <td>2015-10-26</td>\n      <td>880674609</td>\n      <td>148.0</td>\n      <td>[{\"iso_639_1\": \"fr\", \"name\": \"Fran\\u00e7ais\"},...</td>\n      <td>Released</td>\n      <td>A Plan No One Escapes</td>\n      <td>Spectre</td>\n      <td>6.3</td>\n      <td>4466</td>\n    </tr>\n    <tr>\n      <th>3</th>\n      <td>250000000</td>\n      <td>[{\"id\": 28, \"name\": \"Action\"}, {\"id\": 80, \"nam...</td>\n      <td>http://www.thedarkknightrises.com/</td>\n      <td>49026</td>\n      <td>[{\"id\": 849, \"name\": \"dc comics\"}, {\"id\": 853,...</td>\n      <td>en</td>\n      <td>The Dark Knight Rises</td>\n      <td>Following the death of District Attorney Harve...</td>\n      <td>112.312950</td>\n      <td>[{\"name\": \"Legendary Pictures\", \"id\": 923}, {\"...</td>\n      <td>[{\"iso_3166_1\": \"US\", \"name\": \"United States o...</td>\n      <td>2012-07-16</td>\n      <td>1084939099</td>\n      <td>165.0</td>\n      <td>[{\"iso_639_1\": \"en\", \"name\": \"English\"}]</td>\n      <td>Released</td>\n      <td>The Legend Ends</td>\n      <td>The Dark Knight Rises</td>\n      <td>7.6</td>\n      <td>9106</td>\n    </tr>\n    <tr>\n      <th>4</th>\n      <td>260000000</td>\n      <td>[{\"id\": 28, \"name\": \"Action\"}, {\"id\": 12, \"nam...</td>\n      <td>http://movies.disney.com/john-carter</td>\n      <td>49529</td>\n      <td>[{\"id\": 818, \"name\": \"based on novel\"}, {\"id\":...</td>\n      <td>en</td>\n      <td>John Carter</td>\n      <td>John Carter is a war-weary, former military ca...</td>\n      <td>43.926995</td>\n      <td>[{\"name\": \"Walt Disney Pictures\", \"id\": 2}]</td>\n      <td>[{\"iso_3166_1\": \"US\", \"name\": \"United States o...</td>\n      <td>2012-03-07</td>\n      <td>284139100</td>\n      <td>132.0</td>\n      <td>[{\"iso_639_1\": \"en\", \"name\": \"English\"}]</td>\n      <td>Released</td>\n      <td>Lost in our world, found in another.</td>\n      <td>John Carter</td>\n      <td>6.1</td>\n      <td>2124</td>\n    </tr>\n  </tbody>\n</table>\n</div>"
     },
     "execution_count": 2,
     "metadata": {},
     "output_type": "execute_result"
    }
   ],
   "source": [
    "movies.head()"
   ]
  },
  {
   "cell_type": "code",
   "execution_count": 3,
   "id": "39769434",
   "metadata": {
    "id": "39769434",
    "outputId": "05bd4fca-2a77-46fc-a755-5b8c3d09376a",
    "pycharm": {
     "name": "#%%\n"
    }
   },
   "outputs": [
    {
     "name": "stdout",
     "output_type": "stream",
     "text": [
      "Credits: (4803, 4)\n",
      "Movies Dataframe: (4803, 20)\n"
     ]
    }
   ],
   "source": [
    "print(\"Credits:\",credits.shape)\n",
    "print(\"Movies Dataframe:\",movies.shape)"
   ]
  },
  {
   "cell_type": "code",
   "execution_count": 4,
   "id": "6e9cfd26",
   "metadata": {
    "id": "6e9cfd26",
    "outputId": "886dbedc-4a21-41cc-c608-b9b7ef1635fa",
    "pycharm": {
     "name": "#%%\n"
    }
   },
   "outputs": [
    {
     "data": {
      "text/plain": "      budget                                             genres  \\\n0  237000000  [{\"id\": 28, \"name\": \"Action\"}, {\"id\": 12, \"nam...   \n\n                      homepage     id  \\\n0  http://www.avatarmovie.com/  19995   \n\n                                            keywords original_language  \\\n0  [{\"id\": 1463, \"name\": \"culture clash\"}, {\"id\":...                en   \n\n  original_title                                           overview  \\\n0         Avatar  In the 22nd century, a paraplegic Marine is di...   \n\n   popularity                               production_companies  ... runtime  \\\n0  150.437577  [{\"name\": \"Ingenious Film Partners\", \"id\": 289...  ...   162.0   \n\n                                    spoken_languages    status  \\\n0  [{\"iso_639_1\": \"en\", \"name\": \"English\"}, {\"iso...  Released   \n\n                       tagline   title vote_average vote_count movie_id  \\\n0  Enter the World of Pandora.  Avatar          7.2      11800    19995   \n\n                                                cast  \\\n0  [{\"cast_id\": 242, \"character\": \"Jake Sully\", \"...   \n\n                                                crew  \n0  [{\"credit_id\": \"52fe48009251416c750aca23\", \"de...  \n\n[1 rows x 23 columns]",
      "text/html": "<div>\n<style scoped>\n    .dataframe tbody tr th:only-of-type {\n        vertical-align: middle;\n    }\n\n    .dataframe tbody tr th {\n        vertical-align: top;\n    }\n\n    .dataframe thead th {\n        text-align: right;\n    }\n</style>\n<table border=\"1\" class=\"dataframe\">\n  <thead>\n    <tr style=\"text-align: right;\">\n      <th></th>\n      <th>budget</th>\n      <th>genres</th>\n      <th>homepage</th>\n      <th>id</th>\n      <th>keywords</th>\n      <th>original_language</th>\n      <th>original_title</th>\n      <th>overview</th>\n      <th>popularity</th>\n      <th>production_companies</th>\n      <th>...</th>\n      <th>runtime</th>\n      <th>spoken_languages</th>\n      <th>status</th>\n      <th>tagline</th>\n      <th>title</th>\n      <th>vote_average</th>\n      <th>vote_count</th>\n      <th>movie_id</th>\n      <th>cast</th>\n      <th>crew</th>\n    </tr>\n  </thead>\n  <tbody>\n    <tr>\n      <th>0</th>\n      <td>237000000</td>\n      <td>[{\"id\": 28, \"name\": \"Action\"}, {\"id\": 12, \"nam...</td>\n      <td>http://www.avatarmovie.com/</td>\n      <td>19995</td>\n      <td>[{\"id\": 1463, \"name\": \"culture clash\"}, {\"id\":...</td>\n      <td>en</td>\n      <td>Avatar</td>\n      <td>In the 22nd century, a paraplegic Marine is di...</td>\n      <td>150.437577</td>\n      <td>[{\"name\": \"Ingenious Film Partners\", \"id\": 289...</td>\n      <td>...</td>\n      <td>162.0</td>\n      <td>[{\"iso_639_1\": \"en\", \"name\": \"English\"}, {\"iso...</td>\n      <td>Released</td>\n      <td>Enter the World of Pandora.</td>\n      <td>Avatar</td>\n      <td>7.2</td>\n      <td>11800</td>\n      <td>19995</td>\n      <td>[{\"cast_id\": 242, \"character\": \"Jake Sully\", \"...</td>\n      <td>[{\"credit_id\": \"52fe48009251416c750aca23\", \"de...</td>\n    </tr>\n  </tbody>\n</table>\n<p>1 rows × 23 columns</p>\n</div>"
     },
     "execution_count": 4,
     "metadata": {},
     "output_type": "execute_result"
    }
   ],
   "source": [
    "movies=movies.merge(credits,on='title')\n",
    "movies.head(1)"
   ]
  },
  {
   "cell_type": "markdown",
   "source": [],
   "metadata": {
    "collapsed": false,
    "pycharm": {
     "name": "#%% md\n"
    }
   }
  },
  {
   "cell_type": "code",
   "execution_count": 5,
   "id": "297f9dec",
   "metadata": {
    "id": "297f9dec",
    "outputId": "0be4e37d-4d10-41b1-d28a-49283d0f8db2",
    "pycharm": {
     "name": "#%%\n"
    }
   },
   "outputs": [
    {
     "data": {
      "text/plain": "   movie_id                                     title  \\\n0     19995                                    Avatar   \n1       285  Pirates of the Caribbean: At World's End   \n2    206647                                   Spectre   \n3     49026                     The Dark Knight Rises   \n4     49529                               John Carter   \n\n                                            overview  \\\n0  In the 22nd century, a paraplegic Marine is di...   \n1  Captain Barbossa, long believed to be dead, ha...   \n2  A cryptic message from Bond’s past sends him o...   \n3  Following the death of District Attorney Harve...   \n4  John Carter is a war-weary, former military ca...   \n\n                                              genres  \\\n0  [{\"id\": 28, \"name\": \"Action\"}, {\"id\": 12, \"nam...   \n1  [{\"id\": 12, \"name\": \"Adventure\"}, {\"id\": 14, \"...   \n2  [{\"id\": 28, \"name\": \"Action\"}, {\"id\": 12, \"nam...   \n3  [{\"id\": 28, \"name\": \"Action\"}, {\"id\": 80, \"nam...   \n4  [{\"id\": 28, \"name\": \"Action\"}, {\"id\": 12, \"nam...   \n\n                                            keywords  \\\n0  [{\"id\": 1463, \"name\": \"culture clash\"}, {\"id\":...   \n1  [{\"id\": 270, \"name\": \"ocean\"}, {\"id\": 726, \"na...   \n2  [{\"id\": 470, \"name\": \"spy\"}, {\"id\": 818, \"name...   \n3  [{\"id\": 849, \"name\": \"dc comics\"}, {\"id\": 853,...   \n4  [{\"id\": 818, \"name\": \"based on novel\"}, {\"id\":...   \n\n                                                cast  \\\n0  [{\"cast_id\": 242, \"character\": \"Jake Sully\", \"...   \n1  [{\"cast_id\": 4, \"character\": \"Captain Jack Spa...   \n2  [{\"cast_id\": 1, \"character\": \"James Bond\", \"cr...   \n3  [{\"cast_id\": 2, \"character\": \"Bruce Wayne / Ba...   \n4  [{\"cast_id\": 5, \"character\": \"John Carter\", \"c...   \n\n                                                crew  \n0  [{\"credit_id\": \"52fe48009251416c750aca23\", \"de...  \n1  [{\"credit_id\": \"52fe4232c3a36847f800b579\", \"de...  \n2  [{\"credit_id\": \"54805967c3a36829b5002c41\", \"de...  \n3  [{\"credit_id\": \"52fe4781c3a36847f81398c3\", \"de...  \n4  [{\"credit_id\": \"52fe479ac3a36847f813eaa3\", \"de...  ",
      "text/html": "<div>\n<style scoped>\n    .dataframe tbody tr th:only-of-type {\n        vertical-align: middle;\n    }\n\n    .dataframe tbody tr th {\n        vertical-align: top;\n    }\n\n    .dataframe thead th {\n        text-align: right;\n    }\n</style>\n<table border=\"1\" class=\"dataframe\">\n  <thead>\n    <tr style=\"text-align: right;\">\n      <th></th>\n      <th>movie_id</th>\n      <th>title</th>\n      <th>overview</th>\n      <th>genres</th>\n      <th>keywords</th>\n      <th>cast</th>\n      <th>crew</th>\n    </tr>\n  </thead>\n  <tbody>\n    <tr>\n      <th>0</th>\n      <td>19995</td>\n      <td>Avatar</td>\n      <td>In the 22nd century, a paraplegic Marine is di...</td>\n      <td>[{\"id\": 28, \"name\": \"Action\"}, {\"id\": 12, \"nam...</td>\n      <td>[{\"id\": 1463, \"name\": \"culture clash\"}, {\"id\":...</td>\n      <td>[{\"cast_id\": 242, \"character\": \"Jake Sully\", \"...</td>\n      <td>[{\"credit_id\": \"52fe48009251416c750aca23\", \"de...</td>\n    </tr>\n    <tr>\n      <th>1</th>\n      <td>285</td>\n      <td>Pirates of the Caribbean: At World's End</td>\n      <td>Captain Barbossa, long believed to be dead, ha...</td>\n      <td>[{\"id\": 12, \"name\": \"Adventure\"}, {\"id\": 14, \"...</td>\n      <td>[{\"id\": 270, \"name\": \"ocean\"}, {\"id\": 726, \"na...</td>\n      <td>[{\"cast_id\": 4, \"character\": \"Captain Jack Spa...</td>\n      <td>[{\"credit_id\": \"52fe4232c3a36847f800b579\", \"de...</td>\n    </tr>\n    <tr>\n      <th>2</th>\n      <td>206647</td>\n      <td>Spectre</td>\n      <td>A cryptic message from Bond’s past sends him o...</td>\n      <td>[{\"id\": 28, \"name\": \"Action\"}, {\"id\": 12, \"nam...</td>\n      <td>[{\"id\": 470, \"name\": \"spy\"}, {\"id\": 818, \"name...</td>\n      <td>[{\"cast_id\": 1, \"character\": \"James Bond\", \"cr...</td>\n      <td>[{\"credit_id\": \"54805967c3a36829b5002c41\", \"de...</td>\n    </tr>\n    <tr>\n      <th>3</th>\n      <td>49026</td>\n      <td>The Dark Knight Rises</td>\n      <td>Following the death of District Attorney Harve...</td>\n      <td>[{\"id\": 28, \"name\": \"Action\"}, {\"id\": 80, \"nam...</td>\n      <td>[{\"id\": 849, \"name\": \"dc comics\"}, {\"id\": 853,...</td>\n      <td>[{\"cast_id\": 2, \"character\": \"Bruce Wayne / Ba...</td>\n      <td>[{\"credit_id\": \"52fe4781c3a36847f81398c3\", \"de...</td>\n    </tr>\n    <tr>\n      <th>4</th>\n      <td>49529</td>\n      <td>John Carter</td>\n      <td>John Carter is a war-weary, former military ca...</td>\n      <td>[{\"id\": 28, \"name\": \"Action\"}, {\"id\": 12, \"nam...</td>\n      <td>[{\"id\": 818, \"name\": \"based on novel\"}, {\"id\":...</td>\n      <td>[{\"cast_id\": 5, \"character\": \"John Carter\", \"c...</td>\n      <td>[{\"credit_id\": \"52fe479ac3a36847f813eaa3\", \"de...</td>\n    </tr>\n  </tbody>\n</table>\n</div>"
     },
     "execution_count": 5,
     "metadata": {},
     "output_type": "execute_result"
    }
   ],
   "source": [
    "#important var for recommender sys:\n",
    "#genere,id,keywords,title,overview,cast,crew\n",
    "movies = movies[['movie_id','title','overview','genres','keywords','cast','crew']]\n",
    "movies.head()"
   ]
  },
  {
   "cell_type": "code",
   "execution_count": 6,
   "id": "f53bee37",
   "metadata": {
    "id": "f53bee37",
    "outputId": "c521ec82-df4b-4e02-9143-633482cbeb6b",
    "pycharm": {
     "name": "#%%\n"
    }
   },
   "outputs": [
    {
     "data": {
      "text/plain": "movie_id    0\ntitle       0\noverview    3\ngenres      0\nkeywords    0\ncast        0\ncrew        0\ndtype: int64"
     },
     "execution_count": 6,
     "metadata": {},
     "output_type": "execute_result"
    }
   ],
   "source": [
    "movies.isnull().sum()"
   ]
  },
  {
   "cell_type": "code",
   "execution_count": 7,
   "id": "49861e47",
   "metadata": {
    "id": "49861e47",
    "pycharm": {
     "name": "#%%\n"
    }
   },
   "outputs": [],
   "source": [
    "movies.dropna(inplace=True)"
   ]
  },
  {
   "cell_type": "code",
   "execution_count": 8,
   "id": "1e4399a8",
   "metadata": {
    "id": "1e4399a8",
    "outputId": "02c93d28-a775-43c9-e372-accd0a411ebf",
    "pycharm": {
     "name": "#%%\n"
    }
   },
   "outputs": [
    {
     "data": {
      "text/plain": "0"
     },
     "execution_count": 8,
     "metadata": {},
     "output_type": "execute_result"
    }
   ],
   "source": [
    "movies.duplicated().sum()"
   ]
  },
  {
   "cell_type": "code",
   "execution_count": 9,
   "id": "9b0d1621",
   "metadata": {
    "id": "9b0d1621",
    "outputId": "2628d08a-60e0-4dd1-bdef-09f54e7ad065",
    "pycharm": {
     "name": "#%%\n"
    }
   },
   "outputs": [
    {
     "data": {
      "text/plain": "'[{\"id\": 28, \"name\": \"Action\"}, {\"id\": 12, \"name\": \"Adventure\"}, {\"id\": 14, \"name\": \"Fantasy\"}, {\"id\": 878, \"name\": \"Science Fiction\"}]'"
     },
     "execution_count": 9,
     "metadata": {},
     "output_type": "execute_result"
    }
   ],
   "source": [
    "#we only want name from this list\n",
    "movies.iloc[0].genres"
   ]
  },
  {
   "cell_type": "code",
   "execution_count": 10,
   "id": "faeac934",
   "metadata": {
    "id": "faeac934",
    "pycharm": {
     "name": "#%%\n"
    }
   },
   "outputs": [],
   "source": [
    "#Genere seems as a list of dictionaries but when we call the func it \n",
    "##gives an erros for string indices must be int. Therefore, it's an sring.\n",
    "#To convert this string to list, use \"ast\".\n",
    "import ast\n",
    "\n",
    "def convert(text):\n",
    "    L = []\n",
    "    for i in ast.literal_eval(text):\n",
    "        L.append(i['name']) \n",
    "    return L "
   ]
  },
  {
   "cell_type": "code",
   "execution_count": 11,
   "id": "6e0291e3",
   "metadata": {
    "id": "6e0291e3",
    "pycharm": {
     "name": "#%%\n"
    }
   },
   "outputs": [],
   "source": [
    "movies['genres']=movies['genres'].apply(convert)\n",
    "movies['keywords']=movies['keywords'].apply(convert)"
   ]
  },
  {
   "cell_type": "code",
   "execution_count": 11,
   "id": "c37d7eb7",
   "metadata": {
    "id": "c37d7eb7",
    "pycharm": {
     "name": "#%%\n"
    }
   },
   "outputs": [],
   "source": []
  },
  {
   "cell_type": "code",
   "execution_count": 12,
   "id": "a8fc28a2",
   "metadata": {
    "id": "a8fc28a2",
    "outputId": "3d827241-7642-4876-9725-3e2ecf9ad7dc",
    "pycharm": {
     "name": "#%%\n"
    }
   },
   "outputs": [
    {
     "data": {
      "text/plain": "'[{\"cast_id\": 242, \"character\": \"Jake Sully\", \"credit_id\": \"5602a8a7c3a3685532001c9a\", \"gender\": 2, \"id\": 65731, \"name\": \"Sam Worthington\", \"order\": 0}, {\"cast_id\": 3, \"character\": \"Neytiri\", \"credit_id\": \"52fe48009251416c750ac9cb\", \"gender\": 1, \"id\": 8691, \"name\": \"Zoe Saldana\", \"order\": 1}, {\"cast_id\": 25, \"character\": \"Dr. Grace Augustine\", \"credit_id\": \"52fe48009251416c750aca39\", \"gender\": 1, \"id\": 10205, \"name\": \"Sigourney Weaver\", \"order\": 2}, {\"cast_id\": 4, \"character\": \"Col. Quaritch\", \"credit_id\": \"52fe48009251416c750ac9cf\", \"gender\": 2, \"id\": 32747, \"name\": \"Stephen Lang\", \"order\": 3}, {\"cast_id\": 5, \"character\": \"Trudy Chacon\", \"credit_id\": \"52fe48009251416c750ac9d3\", \"gender\": 1, \"id\": 17647, \"name\": \"Michelle Rodriguez\", \"order\": 4}, {\"cast_id\": 8, \"character\": \"Selfridge\", \"credit_id\": \"52fe48009251416c750ac9e1\", \"gender\": 2, \"id\": 1771, \"name\": \"Giovanni Ribisi\", \"order\": 5}, {\"cast_id\": 7, \"character\": \"Norm Spellman\", \"credit_id\": \"52fe48009251416c750ac9dd\", \"gender\": 2, \"id\": 59231, \"name\": \"Joel David Moore\", \"order\": 6}, {\"cast_id\": 9, \"character\": \"Moat\", \"credit_id\": \"52fe48009251416c750ac9e5\", \"gender\": 1, \"id\": 30485, \"name\": \"CCH Pounder\", \"order\": 7}, {\"cast_id\": 11, \"character\": \"Eytukan\", \"credit_id\": \"52fe48009251416c750ac9ed\", \"gender\": 2, \"id\": 15853, \"name\": \"Wes Studi\", \"order\": 8}, {\"cast_id\": 10, \"character\": \"Tsu\\'Tey\", \"credit_id\": \"52fe48009251416c750ac9e9\", \"gender\": 2, \"id\": 10964, \"name\": \"Laz Alonso\", \"order\": 9}, {\"cast_id\": 12, \"character\": \"Dr. Max Patel\", \"credit_id\": \"52fe48009251416c750ac9f1\", \"gender\": 2, \"id\": 95697, \"name\": \"Dileep Rao\", \"order\": 10}, {\"cast_id\": 13, \"character\": \"Lyle Wainfleet\", \"credit_id\": \"52fe48009251416c750ac9f5\", \"gender\": 2, \"id\": 98215, \"name\": \"Matt Gerald\", \"order\": 11}, {\"cast_id\": 32, \"character\": \"Private Fike\", \"credit_id\": \"52fe48009251416c750aca5b\", \"gender\": 2, \"id\": 154153, \"name\": \"Sean Anthony Moran\", \"order\": 12}, {\"cast_id\": 33, \"character\": \"Cryo Vault Med Tech\", \"credit_id\": \"52fe48009251416c750aca5f\", \"gender\": 2, \"id\": 397312, \"name\": \"Jason Whyte\", \"order\": 13}, {\"cast_id\": 34, \"character\": \"Venture Star Crew Chief\", \"credit_id\": \"52fe48009251416c750aca63\", \"gender\": 2, \"id\": 42317, \"name\": \"Scott Lawrence\", \"order\": 14}, {\"cast_id\": 35, \"character\": \"Lock Up Trooper\", \"credit_id\": \"52fe48009251416c750aca67\", \"gender\": 2, \"id\": 986734, \"name\": \"Kelly Kilgour\", \"order\": 15}, {\"cast_id\": 36, \"character\": \"Shuttle Pilot\", \"credit_id\": \"52fe48009251416c750aca6b\", \"gender\": 0, \"id\": 1207227, \"name\": \"James Patrick Pitt\", \"order\": 16}, {\"cast_id\": 37, \"character\": \"Shuttle Co-Pilot\", \"credit_id\": \"52fe48009251416c750aca6f\", \"gender\": 0, \"id\": 1180936, \"name\": \"Sean Patrick Murphy\", \"order\": 17}, {\"cast_id\": 38, \"character\": \"Shuttle Crew Chief\", \"credit_id\": \"52fe48009251416c750aca73\", \"gender\": 2, \"id\": 1019578, \"name\": \"Peter Dillon\", \"order\": 18}, {\"cast_id\": 39, \"character\": \"Tractor Operator / Troupe\", \"credit_id\": \"52fe48009251416c750aca77\", \"gender\": 0, \"id\": 91443, \"name\": \"Kevin Dorman\", \"order\": 19}, {\"cast_id\": 40, \"character\": \"Dragon Gunship Pilot\", \"credit_id\": \"52fe48009251416c750aca7b\", \"gender\": 2, \"id\": 173391, \"name\": \"Kelson Henderson\", \"order\": 20}, {\"cast_id\": 41, \"character\": \"Dragon Gunship Gunner\", \"credit_id\": \"52fe48009251416c750aca7f\", \"gender\": 0, \"id\": 1207236, \"name\": \"David Van Horn\", \"order\": 21}, {\"cast_id\": 42, \"character\": \"Dragon Gunship Navigator\", \"credit_id\": \"52fe48009251416c750aca83\", \"gender\": 0, \"id\": 215913, \"name\": \"Jacob Tomuri\", \"order\": 22}, {\"cast_id\": 43, \"character\": \"Suit #1\", \"credit_id\": \"52fe48009251416c750aca87\", \"gender\": 0, \"id\": 143206, \"name\": \"Michael Blain-Rozgay\", \"order\": 23}, {\"cast_id\": 44, \"character\": \"Suit #2\", \"credit_id\": \"52fe48009251416c750aca8b\", \"gender\": 2, \"id\": 169676, \"name\": \"Jon Curry\", \"order\": 24}, {\"cast_id\": 46, \"character\": \"Ambient Room Tech\", \"credit_id\": \"52fe48009251416c750aca8f\", \"gender\": 0, \"id\": 1048610, \"name\": \"Luke Hawker\", \"order\": 25}, {\"cast_id\": 47, \"character\": \"Ambient Room Tech / Troupe\", \"credit_id\": \"52fe48009251416c750aca93\", \"gender\": 0, \"id\": 42288, \"name\": \"Woody Schultz\", \"order\": 26}, {\"cast_id\": 48, \"character\": \"Horse Clan Leader\", \"credit_id\": \"52fe48009251416c750aca97\", \"gender\": 2, \"id\": 68278, \"name\": \"Peter Mensah\", \"order\": 27}, {\"cast_id\": 49, \"character\": \"Link Room Tech\", \"credit_id\": \"52fe48009251416c750aca9b\", \"gender\": 0, \"id\": 1207247, \"name\": \"Sonia Yee\", \"order\": 28}, {\"cast_id\": 50, \"character\": \"Basketball Avatar / Troupe\", \"credit_id\": \"52fe48009251416c750aca9f\", \"gender\": 1, \"id\": 1207248, \"name\": \"Jahnel Curfman\", \"order\": 29}, {\"cast_id\": 51, \"character\": \"Basketball Avatar\", \"credit_id\": \"52fe48009251416c750acaa3\", \"gender\": 0, \"id\": 89714, \"name\": \"Ilram Choi\", \"order\": 30}, {\"cast_id\": 52, \"character\": \"Na\\'vi Child\", \"credit_id\": \"52fe48009251416c750acaa7\", \"gender\": 0, \"id\": 1207249, \"name\": \"Kyla Warren\", \"order\": 31}, {\"cast_id\": 53, \"character\": \"Troupe\", \"credit_id\": \"52fe48009251416c750acaab\", \"gender\": 0, \"id\": 1207250, \"name\": \"Lisa Roumain\", \"order\": 32}, {\"cast_id\": 54, \"character\": \"Troupe\", \"credit_id\": \"52fe48009251416c750acaaf\", \"gender\": 1, \"id\": 83105, \"name\": \"Debra Wilson\", \"order\": 33}, {\"cast_id\": 57, \"character\": \"Troupe\", \"credit_id\": \"52fe48009251416c750acabb\", \"gender\": 0, \"id\": 1207253, \"name\": \"Chris Mala\", \"order\": 34}, {\"cast_id\": 55, \"character\": \"Troupe\", \"credit_id\": \"52fe48009251416c750acab3\", \"gender\": 0, \"id\": 1207251, \"name\": \"Taylor Kibby\", \"order\": 35}, {\"cast_id\": 56, \"character\": \"Troupe\", \"credit_id\": \"52fe48009251416c750acab7\", \"gender\": 0, \"id\": 1207252, \"name\": \"Jodie Landau\", \"order\": 36}, {\"cast_id\": 58, \"character\": \"Troupe\", \"credit_id\": \"52fe48009251416c750acabf\", \"gender\": 0, \"id\": 1207254, \"name\": \"Julie Lamm\", \"order\": 37}, {\"cast_id\": 59, \"character\": \"Troupe\", \"credit_id\": \"52fe48009251416c750acac3\", \"gender\": 0, \"id\": 1207257, \"name\": \"Cullen B. Madden\", \"order\": 38}, {\"cast_id\": 60, \"character\": \"Troupe\", \"credit_id\": \"52fe48009251416c750acac7\", \"gender\": 0, \"id\": 1207259, \"name\": \"Joseph Brady Madden\", \"order\": 39}, {\"cast_id\": 61, \"character\": \"Troupe\", \"credit_id\": \"52fe48009251416c750acacb\", \"gender\": 0, \"id\": 1207262, \"name\": \"Frankie Torres\", \"order\": 40}, {\"cast_id\": 62, \"character\": \"Troupe\", \"credit_id\": \"52fe48009251416c750acacf\", \"gender\": 1, \"id\": 1158600, \"name\": \"Austin Wilson\", \"order\": 41}, {\"cast_id\": 63, \"character\": \"Troupe\", \"credit_id\": \"52fe48019251416c750acad3\", \"gender\": 1, \"id\": 983705, \"name\": \"Sara Wilson\", \"order\": 42}, {\"cast_id\": 64, \"character\": \"Troupe\", \"credit_id\": \"52fe48019251416c750acad7\", \"gender\": 0, \"id\": 1207263, \"name\": \"Tamica Washington-Miller\", \"order\": 43}, {\"cast_id\": 65, \"character\": \"Op Center Staff\", \"credit_id\": \"52fe48019251416c750acadb\", \"gender\": 1, \"id\": 1145098, \"name\": \"Lucy Briant\", \"order\": 44}, {\"cast_id\": 66, \"character\": \"Op Center Staff\", \"credit_id\": \"52fe48019251416c750acadf\", \"gender\": 2, \"id\": 33305, \"name\": \"Nathan Meister\", \"order\": 45}, {\"cast_id\": 67, \"character\": \"Op Center Staff\", \"credit_id\": \"52fe48019251416c750acae3\", \"gender\": 0, \"id\": 1207264, \"name\": \"Gerry Blair\", \"order\": 46}, {\"cast_id\": 68, \"character\": \"Op Center Staff\", \"credit_id\": \"52fe48019251416c750acae7\", \"gender\": 2, \"id\": 33311, \"name\": \"Matthew Chamberlain\", \"order\": 47}, {\"cast_id\": 69, \"character\": \"Op Center Staff\", \"credit_id\": \"52fe48019251416c750acaeb\", \"gender\": 0, \"id\": 1207265, \"name\": \"Paul Yates\", \"order\": 48}, {\"cast_id\": 70, \"character\": \"Op Center Duty Officer\", \"credit_id\": \"52fe48019251416c750acaef\", \"gender\": 0, \"id\": 1207266, \"name\": \"Wray Wilson\", \"order\": 49}, {\"cast_id\": 71, \"character\": \"Op Center Staff\", \"credit_id\": \"52fe48019251416c750acaf3\", \"gender\": 2, \"id\": 54492, \"name\": \"James Gaylyn\", \"order\": 50}, {\"cast_id\": 72, \"character\": \"Dancer\", \"credit_id\": \"52fe48019251416c750acaf7\", \"gender\": 0, \"id\": 1207267, \"name\": \"Melvin Leno Clark III\", \"order\": 51}, {\"cast_id\": 73, \"character\": \"Dancer\", \"credit_id\": \"52fe48019251416c750acafb\", \"gender\": 0, \"id\": 1207268, \"name\": \"Carvon Futrell\", \"order\": 52}, {\"cast_id\": 74, \"character\": \"Dancer\", \"credit_id\": \"52fe48019251416c750acaff\", \"gender\": 0, \"id\": 1207269, \"name\": \"Brandon Jelkes\", \"order\": 53}, {\"cast_id\": 75, \"character\": \"Dancer\", \"credit_id\": \"52fe48019251416c750acb03\", \"gender\": 0, \"id\": 1207270, \"name\": \"Micah Moch\", \"order\": 54}, {\"cast_id\": 76, \"character\": \"Dancer\", \"credit_id\": \"52fe48019251416c750acb07\", \"gender\": 0, \"id\": 1207271, \"name\": \"Hanniyah Muhammad\", \"order\": 55}, {\"cast_id\": 77, \"character\": \"Dancer\", \"credit_id\": \"52fe48019251416c750acb0b\", \"gender\": 0, \"id\": 1207272, \"name\": \"Christopher Nolen\", \"order\": 56}, {\"cast_id\": 78, \"character\": \"Dancer\", \"credit_id\": \"52fe48019251416c750acb0f\", \"gender\": 0, \"id\": 1207273, \"name\": \"Christa Oliver\", \"order\": 57}, {\"cast_id\": 79, \"character\": \"Dancer\", \"credit_id\": \"52fe48019251416c750acb13\", \"gender\": 0, \"id\": 1207274, \"name\": \"April Marie Thomas\", \"order\": 58}, {\"cast_id\": 80, \"character\": \"Dancer\", \"credit_id\": \"52fe48019251416c750acb17\", \"gender\": 0, \"id\": 1207275, \"name\": \"Bravita A. Threatt\", \"order\": 59}, {\"cast_id\": 81, \"character\": \"Mining Chief (uncredited)\", \"credit_id\": \"52fe48019251416c750acb1b\", \"gender\": 0, \"id\": 1207276, \"name\": \"Colin Bleasdale\", \"order\": 60}, {\"cast_id\": 82, \"character\": \"Veteran Miner (uncredited)\", \"credit_id\": \"52fe48019251416c750acb1f\", \"gender\": 0, \"id\": 107969, \"name\": \"Mike Bodnar\", \"order\": 61}, {\"cast_id\": 83, \"character\": \"Richard (uncredited)\", \"credit_id\": \"52fe48019251416c750acb23\", \"gender\": 0, \"id\": 1207278, \"name\": \"Matt Clayton\", \"order\": 62}, {\"cast_id\": 84, \"character\": \"Nav\\'i (uncredited)\", \"credit_id\": \"52fe48019251416c750acb27\", \"gender\": 1, \"id\": 147898, \"name\": \"Nicole Dionne\", \"order\": 63}, {\"cast_id\": 85, \"character\": \"Trooper (uncredited)\", \"credit_id\": \"52fe48019251416c750acb2b\", \"gender\": 0, \"id\": 1207280, \"name\": \"Jamie Harrison\", \"order\": 64}, {\"cast_id\": 86, \"character\": \"Trooper (uncredited)\", \"credit_id\": \"52fe48019251416c750acb2f\", \"gender\": 0, \"id\": 1207281, \"name\": \"Allan Henry\", \"order\": 65}, {\"cast_id\": 87, \"character\": \"Ground Technician (uncredited)\", \"credit_id\": \"52fe48019251416c750acb33\", \"gender\": 2, \"id\": 1207282, \"name\": \"Anthony Ingruber\", \"order\": 66}, {\"cast_id\": 88, \"character\": \"Flight Crew Mechanic (uncredited)\", \"credit_id\": \"52fe48019251416c750acb37\", \"gender\": 0, \"id\": 1207283, \"name\": \"Ashley Jeffery\", \"order\": 67}, {\"cast_id\": 14, \"character\": \"Samson Pilot\", \"credit_id\": \"52fe48009251416c750ac9f9\", \"gender\": 0, \"id\": 98216, \"name\": \"Dean Knowsley\", \"order\": 68}, {\"cast_id\": 89, \"character\": \"Trooper (uncredited)\", \"credit_id\": \"52fe48019251416c750acb3b\", \"gender\": 0, \"id\": 1201399, \"name\": \"Joseph Mika-Hunt\", \"order\": 69}, {\"cast_id\": 90, \"character\": \"Banshee (uncredited)\", \"credit_id\": \"52fe48019251416c750acb3f\", \"gender\": 0, \"id\": 236696, \"name\": \"Terry Notary\", \"order\": 70}, {\"cast_id\": 91, \"character\": \"Soldier (uncredited)\", \"credit_id\": \"52fe48019251416c750acb43\", \"gender\": 0, \"id\": 1207287, \"name\": \"Kai Pantano\", \"order\": 71}, {\"cast_id\": 92, \"character\": \"Blast Technician (uncredited)\", \"credit_id\": \"52fe48019251416c750acb47\", \"gender\": 0, \"id\": 1207288, \"name\": \"Logan Pithyou\", \"order\": 72}, {\"cast_id\": 93, \"character\": \"Vindum Raah (uncredited)\", \"credit_id\": \"52fe48019251416c750acb4b\", \"gender\": 0, \"id\": 1207289, \"name\": \"Stuart Pollock\", \"order\": 73}, {\"cast_id\": 94, \"character\": \"Hero (uncredited)\", \"credit_id\": \"52fe48019251416c750acb4f\", \"gender\": 0, \"id\": 584868, \"name\": \"Raja\", \"order\": 74}, {\"cast_id\": 95, \"character\": \"Ops Centreworker (uncredited)\", \"credit_id\": \"52fe48019251416c750acb53\", \"gender\": 0, \"id\": 1207290, \"name\": \"Gareth Ruck\", \"order\": 75}, {\"cast_id\": 96, \"character\": \"Engineer (uncredited)\", \"credit_id\": \"52fe48019251416c750acb57\", \"gender\": 0, \"id\": 1062463, \"name\": \"Rhian Sheehan\", \"order\": 76}, {\"cast_id\": 97, \"character\": \"Col. Quaritch\\'s Mech Suit (uncredited)\", \"credit_id\": \"52fe48019251416c750acb5b\", \"gender\": 0, \"id\": 60656, \"name\": \"T. J. Storm\", \"order\": 77}, {\"cast_id\": 98, \"character\": \"Female Marine (uncredited)\", \"credit_id\": \"52fe48019251416c750acb5f\", \"gender\": 0, \"id\": 1207291, \"name\": \"Jodie Taylor\", \"order\": 78}, {\"cast_id\": 99, \"character\": \"Ikran Clan Leader (uncredited)\", \"credit_id\": \"52fe48019251416c750acb63\", \"gender\": 1, \"id\": 1186027, \"name\": \"Alicia Vela-Bailey\", \"order\": 79}, {\"cast_id\": 100, \"character\": \"Geologist (uncredited)\", \"credit_id\": \"52fe48019251416c750acb67\", \"gender\": 0, \"id\": 1207292, \"name\": \"Richard Whiteside\", \"order\": 80}, {\"cast_id\": 101, \"character\": \"Na\\'vi (uncredited)\", \"credit_id\": \"52fe48019251416c750acb6b\", \"gender\": 0, \"id\": 103259, \"name\": \"Nikie Zambo\", \"order\": 81}, {\"cast_id\": 102, \"character\": \"Ambient Room Tech / Troupe\", \"credit_id\": \"52fe48019251416c750acb6f\", \"gender\": 1, \"id\": 42286, \"name\": \"Julene Renee\", \"order\": 82}]'"
     },
     "execution_count": 12,
     "metadata": {},
     "output_type": "execute_result"
    }
   ],
   "source": [
    "#we only want name of actors and not charachter name. We will extract only first 3 cast.\n",
    "# Sam Worthington and not Jake Sully \n",
    "movies['cast'][0]"
   ]
  },
  {
   "cell_type": "code",
   "execution_count": 13,
   "id": "ff9ec844",
   "metadata": {
    "id": "ff9ec844",
    "pycharm": {
     "name": "#%%\n"
    }
   },
   "outputs": [],
   "source": [
    "def first_3_cast(text):\n",
    "    L = []\n",
    "    counter = 0\n",
    "    for i in ast.literal_eval(text):\n",
    "        if counter < 3:\n",
    "            L.append(i['name'])\n",
    "        counter+=1\n",
    "    return L"
   ]
  },
  {
   "cell_type": "code",
   "execution_count": 14,
   "id": "f11bf780",
   "metadata": {
    "id": "f11bf780",
    "pycharm": {
     "name": "#%%\n"
    }
   },
   "outputs": [],
   "source": [
    "movies['cast']=movies['cast'].apply(first_3_cast)"
   ]
  },
  {
   "cell_type": "code",
   "execution_count": 15,
   "id": "a3b8315e",
   "metadata": {
    "id": "a3b8315e",
    "outputId": "3716b887-9338-4932-c929-eef314f526ae",
    "pycharm": {
     "name": "#%%\n"
    }
   },
   "outputs": [
    {
     "data": {
      "text/plain": "'[{\"credit_id\": \"52fe48009251416c750aca23\", \"department\": \"Editing\", \"gender\": 0, \"id\": 1721, \"job\": \"Editor\", \"name\": \"Stephen E. Rivkin\"}, {\"credit_id\": \"539c47ecc3a36810e3001f87\", \"department\": \"Art\", \"gender\": 2, \"id\": 496, \"job\": \"Production Design\", \"name\": \"Rick Carter\"}, {\"credit_id\": \"54491c89c3a3680fb4001cf7\", \"department\": \"Sound\", \"gender\": 0, \"id\": 900, \"job\": \"Sound Designer\", \"name\": \"Christopher Boyes\"}, {\"credit_id\": \"54491cb70e0a267480001bd0\", \"department\": \"Sound\", \"gender\": 0, \"id\": 900, \"job\": \"Supervising Sound Editor\", \"name\": \"Christopher Boyes\"}, {\"credit_id\": \"539c4a4cc3a36810c9002101\", \"department\": \"Production\", \"gender\": 1, \"id\": 1262, \"job\": \"Casting\", \"name\": \"Mali Finn\"}, {\"credit_id\": \"5544ee3b925141499f0008fc\", \"department\": \"Sound\", \"gender\": 2, \"id\": 1729, \"job\": \"Original Music Composer\", \"name\": \"James Horner\"}, {\"credit_id\": \"52fe48009251416c750ac9c3\", \"department\": \"Directing\", \"gender\": 2, \"id\": 2710, \"job\": \"Director\", \"name\": \"James Cameron\"}, {\"credit_id\": \"52fe48009251416c750ac9d9\", \"department\": \"Writing\", \"gender\": 2, \"id\": 2710, \"job\": \"Writer\", \"name\": \"James Cameron\"}, {\"credit_id\": \"52fe48009251416c750aca17\", \"department\": \"Editing\", \"gender\": 2, \"id\": 2710, \"job\": \"Editor\", \"name\": \"James Cameron\"}, {\"credit_id\": \"52fe48009251416c750aca29\", \"department\": \"Production\", \"gender\": 2, \"id\": 2710, \"job\": \"Producer\", \"name\": \"James Cameron\"}, {\"credit_id\": \"52fe48009251416c750aca3f\", \"department\": \"Writing\", \"gender\": 2, \"id\": 2710, \"job\": \"Screenplay\", \"name\": \"James Cameron\"}, {\"credit_id\": \"539c4987c3a36810ba0021a4\", \"department\": \"Art\", \"gender\": 2, \"id\": 7236, \"job\": \"Art Direction\", \"name\": \"Andrew Menzies\"}, {\"credit_id\": \"549598c3c3a3686ae9004383\", \"department\": \"Visual Effects\", \"gender\": 0, \"id\": 6690, \"job\": \"Visual Effects Producer\", \"name\": \"Jill Brooks\"}, {\"credit_id\": \"52fe48009251416c750aca4b\", \"department\": \"Production\", \"gender\": 1, \"id\": 6347, \"job\": \"Casting\", \"name\": \"Margery Simkin\"}, {\"credit_id\": \"570b6f419251417da70032fe\", \"department\": \"Art\", \"gender\": 2, \"id\": 6878, \"job\": \"Supervising Art Director\", \"name\": \"Kevin Ishioka\"}, {\"credit_id\": \"5495a0fac3a3686ae9004468\", \"department\": \"Sound\", \"gender\": 0, \"id\": 6883, \"job\": \"Music Editor\", \"name\": \"Dick Bernstein\"}, {\"credit_id\": \"54959706c3a3686af3003e81\", \"department\": \"Sound\", \"gender\": 0, \"id\": 8159, \"job\": \"Sound Effects Editor\", \"name\": \"Shannon Mills\"}, {\"credit_id\": \"54491d58c3a3680fb1001ccb\", \"department\": \"Sound\", \"gender\": 0, \"id\": 8160, \"job\": \"Foley\", \"name\": \"Dennie Thorpe\"}, {\"credit_id\": \"54491d6cc3a3680fa5001b2c\", \"department\": \"Sound\", \"gender\": 0, \"id\": 8163, \"job\": \"Foley\", \"name\": \"Jana Vance\"}, {\"credit_id\": \"52fe48009251416c750aca57\", \"department\": \"Costume & Make-Up\", \"gender\": 1, \"id\": 8527, \"job\": \"Costume Design\", \"name\": \"Deborah Lynn Scott\"}, {\"credit_id\": \"52fe48009251416c750aca2f\", \"department\": \"Production\", \"gender\": 2, \"id\": 8529, \"job\": \"Producer\", \"name\": \"Jon Landau\"}, {\"credit_id\": \"539c4937c3a36810ba002194\", \"department\": \"Art\", \"gender\": 0, \"id\": 9618, \"job\": \"Art Direction\", \"name\": \"Sean Haworth\"}, {\"credit_id\": \"539c49b6c3a36810c10020e6\", \"department\": \"Art\", \"gender\": 1, \"id\": 12653, \"job\": \"Set Decoration\", \"name\": \"Kim Sinclair\"}, {\"credit_id\": \"570b6f2f9251413a0e00020d\", \"department\": \"Art\", \"gender\": 1, \"id\": 12653, \"job\": \"Supervising Art Director\", \"name\": \"Kim Sinclair\"}, {\"credit_id\": \"54491a6c0e0a26748c001b19\", \"department\": \"Art\", \"gender\": 2, \"id\": 14350, \"job\": \"Set Designer\", \"name\": \"Richard F. Mays\"}, {\"credit_id\": \"56928cf4c3a3684cff0025c4\", \"department\": \"Production\", \"gender\": 1, \"id\": 20294, \"job\": \"Executive Producer\", \"name\": \"Laeta Kalogridis\"}, {\"credit_id\": \"52fe48009251416c750aca51\", \"department\": \"Costume & Make-Up\", \"gender\": 0, \"id\": 17675, \"job\": \"Costume Design\", \"name\": \"Mayes C. Rubeo\"}, {\"credit_id\": \"52fe48009251416c750aca11\", \"department\": \"Camera\", \"gender\": 2, \"id\": 18265, \"job\": \"Director of Photography\", \"name\": \"Mauro Fiore\"}, {\"credit_id\": \"5449194d0e0a26748f001b39\", \"department\": \"Art\", \"gender\": 0, \"id\": 42281, \"job\": \"Set Designer\", \"name\": \"Scott Herbertson\"}, {\"credit_id\": \"52fe48009251416c750aca05\", \"department\": \"Crew\", \"gender\": 0, \"id\": 42288, \"job\": \"Stunts\", \"name\": \"Woody Schultz\"}, {\"credit_id\": \"5592aefb92514152de0010f5\", \"department\": \"Costume & Make-Up\", \"gender\": 0, \"id\": 29067, \"job\": \"Makeup Artist\", \"name\": \"Linda DeVetta\"}, {\"credit_id\": \"5592afa492514152de00112c\", \"department\": \"Costume & Make-Up\", \"gender\": 0, \"id\": 29067, \"job\": \"Hairstylist\", \"name\": \"Linda DeVetta\"}, {\"credit_id\": \"54959ed592514130fc002e5d\", \"department\": \"Camera\", \"gender\": 2, \"id\": 33302, \"job\": \"Camera Operator\", \"name\": \"Richard Bluck\"}, {\"credit_id\": \"539c4891c3a36810ba002147\", \"department\": \"Art\", \"gender\": 2, \"id\": 33303, \"job\": \"Art Direction\", \"name\": \"Simon Bright\"}, {\"credit_id\": \"54959c069251417a81001f3a\", \"department\": \"Visual Effects\", \"gender\": 0, \"id\": 113145, \"job\": \"Visual Effects Supervisor\", \"name\": \"Richard Martin\"}, {\"credit_id\": \"54959a0dc3a3680ff5002c8d\", \"department\": \"Crew\", \"gender\": 2, \"id\": 58188, \"job\": \"Visual Effects Editor\", \"name\": \"Steve R. Moore\"}, {\"credit_id\": \"52fe48009251416c750aca1d\", \"department\": \"Editing\", \"gender\": 2, \"id\": 58871, \"job\": \"Editor\", \"name\": \"John Refoua\"}, {\"credit_id\": \"54491a4dc3a3680fc30018ca\", \"department\": \"Art\", \"gender\": 0, \"id\": 92359, \"job\": \"Set Designer\", \"name\": \"Karl J. Martin\"}, {\"credit_id\": \"52fe48009251416c750aca35\", \"department\": \"Camera\", \"gender\": 1, \"id\": 72201, \"job\": \"Director of Photography\", \"name\": \"Chiling Lin\"}, {\"credit_id\": \"52fe48009251416c750ac9ff\", \"department\": \"Crew\", \"gender\": 0, \"id\": 89714, \"job\": \"Stunts\", \"name\": \"Ilram Choi\"}, {\"credit_id\": \"54959c529251416e2b004394\", \"department\": \"Visual Effects\", \"gender\": 2, \"id\": 93214, \"job\": \"Visual Effects Supervisor\", \"name\": \"Steven Quale\"}, {\"credit_id\": \"54491edf0e0a267489001c37\", \"department\": \"Crew\", \"gender\": 1, \"id\": 122607, \"job\": \"Dialect Coach\", \"name\": \"Carla Meyer\"}, {\"credit_id\": \"539c485bc3a368653d001a3a\", \"department\": \"Art\", \"gender\": 2, \"id\": 132585, \"job\": \"Art Direction\", \"name\": \"Nick Bassett\"}, {\"credit_id\": \"539c4903c3a368653d001a74\", \"department\": \"Art\", \"gender\": 0, \"id\": 132596, \"job\": \"Art Direction\", \"name\": \"Jill Cormack\"}, {\"credit_id\": \"539c4967c3a368653d001a94\", \"department\": \"Art\", \"gender\": 0, \"id\": 132604, \"job\": \"Art Direction\", \"name\": \"Andy McLaren\"}, {\"credit_id\": \"52fe48009251416c750aca45\", \"department\": \"Crew\", \"gender\": 0, \"id\": 236696, \"job\": \"Motion Capture Artist\", \"name\": \"Terry Notary\"}, {\"credit_id\": \"54959e02c3a3680fc60027d2\", \"department\": \"Crew\", \"gender\": 2, \"id\": 956198, \"job\": \"Stunt Coordinator\", \"name\": \"Garrett Warren\"}, {\"credit_id\": \"54959ca3c3a3686ae300438c\", \"department\": \"Visual Effects\", \"gender\": 2, \"id\": 957874, \"job\": \"Visual Effects Supervisor\", \"name\": \"Jonathan Rothbart\"}, {\"credit_id\": \"570b6f519251412c74001b2f\", \"department\": \"Art\", \"gender\": 0, \"id\": 957889, \"job\": \"Supervising Art Director\", \"name\": \"Stefan Dechant\"}, {\"credit_id\": \"570b6f62c3a3680b77007460\", \"department\": \"Art\", \"gender\": 2, \"id\": 959555, \"job\": \"Supervising Art Director\", \"name\": \"Todd Cherniawsky\"}, {\"credit_id\": \"539c4a3ac3a36810da0021cc\", \"department\": \"Production\", \"gender\": 0, \"id\": 1016177, \"job\": \"Casting\", \"name\": \"Miranda Rivers\"}, {\"credit_id\": \"539c482cc3a36810c1002062\", \"department\": \"Art\", \"gender\": 0, \"id\": 1032536, \"job\": \"Production Design\", \"name\": \"Robert Stromberg\"}, {\"credit_id\": \"539c4b65c3a36810c9002125\", \"department\": \"Costume & Make-Up\", \"gender\": 2, \"id\": 1071680, \"job\": \"Costume Design\", \"name\": \"John Harding\"}, {\"credit_id\": \"54959e6692514130fc002e4e\", \"department\": \"Camera\", \"gender\": 0, \"id\": 1177364, \"job\": \"Steadicam Operator\", \"name\": \"Roberto De Angelis\"}, {\"credit_id\": \"539c49f1c3a368653d001aac\", \"department\": \"Costume & Make-Up\", \"gender\": 2, \"id\": 1202850, \"job\": \"Makeup Department Head\", \"name\": \"Mike Smithson\"}, {\"credit_id\": \"5495999ec3a3686ae100460c\", \"department\": \"Visual Effects\", \"gender\": 0, \"id\": 1204668, \"job\": \"Visual Effects Producer\", \"name\": \"Alain Lalanne\"}, {\"credit_id\": \"54959cdfc3a3681153002729\", \"department\": \"Visual Effects\", \"gender\": 0, \"id\": 1206410, \"job\": \"Visual Effects Supervisor\", \"name\": \"Lucas Salton\"}, {\"credit_id\": \"549596239251417a81001eae\", \"department\": \"Crew\", \"gender\": 0, \"id\": 1234266, \"job\": \"Post Production Supervisor\", \"name\": \"Janace Tashjian\"}, {\"credit_id\": \"54959c859251416e1e003efe\", \"department\": \"Visual Effects\", \"gender\": 0, \"id\": 1271932, \"job\": \"Visual Effects Supervisor\", \"name\": \"Stephen Rosenbaum\"}, {\"credit_id\": \"5592af28c3a368775a00105f\", \"department\": \"Costume & Make-Up\", \"gender\": 0, \"id\": 1310064, \"job\": \"Makeup Artist\", \"name\": \"Frankie Karena\"}, {\"credit_id\": \"539c4adfc3a36810e300203b\", \"department\": \"Costume & Make-Up\", \"gender\": 1, \"id\": 1319844, \"job\": \"Costume Supervisor\", \"name\": \"Lisa Lovaas\"}, {\"credit_id\": \"54959b579251416e2b004371\", \"department\": \"Visual Effects\", \"gender\": 0, \"id\": 1327028, \"job\": \"Visual Effects Supervisor\", \"name\": \"Jonathan Fawkner\"}, {\"credit_id\": \"539c48a7c3a36810b5001fa7\", \"department\": \"Art\", \"gender\": 0, \"id\": 1330561, \"job\": \"Art Direction\", \"name\": \"Robert Bavin\"}, {\"credit_id\": \"539c4a71c3a36810da0021e0\", \"department\": \"Costume & Make-Up\", \"gender\": 0, \"id\": 1330567, \"job\": \"Costume Supervisor\", \"name\": \"Anthony Almaraz\"}, {\"credit_id\": \"539c4a8ac3a36810ba0021e4\", \"department\": \"Costume & Make-Up\", \"gender\": 0, \"id\": 1330570, \"job\": \"Costume Supervisor\", \"name\": \"Carolyn M. Fenton\"}, {\"credit_id\": \"539c4ab6c3a36810da0021f0\", \"department\": \"Costume & Make-Up\", \"gender\": 0, \"id\": 1330574, \"job\": \"Costume Supervisor\", \"name\": \"Beth Koenigsberg\"}, {\"credit_id\": \"54491ab70e0a267480001ba2\", \"department\": \"Art\", \"gender\": 0, \"id\": 1336191, \"job\": \"Set Designer\", \"name\": \"Sam Page\"}, {\"credit_id\": \"544919d9c3a3680fc30018bd\", \"department\": \"Art\", \"gender\": 0, \"id\": 1339441, \"job\": \"Set Designer\", \"name\": \"Tex Kadonaga\"}, {\"credit_id\": \"54491cf50e0a267483001b0c\", \"department\": \"Editing\", \"gender\": 0, \"id\": 1352422, \"job\": \"Dialogue Editor\", \"name\": \"Kim Foscato\"}, {\"credit_id\": \"544919f40e0a26748c001b09\", \"department\": \"Art\", \"gender\": 0, \"id\": 1352962, \"job\": \"Set Designer\", \"name\": \"Tammy S. Lee\"}, {\"credit_id\": \"5495a115c3a3680ff5002d71\", \"department\": \"Crew\", \"gender\": 0, \"id\": 1357070, \"job\": \"Transportation Coordinator\", \"name\": \"Denny Caira\"}, {\"credit_id\": \"5495a12f92514130fc002e94\", \"department\": \"Crew\", \"gender\": 0, \"id\": 1357071, \"job\": \"Transportation Coordinator\", \"name\": \"James Waitkus\"}, {\"credit_id\": \"5495976fc3a36811530026b0\", \"department\": \"Sound\", \"gender\": 0, \"id\": 1360103, \"job\": \"Supervising Sound Editor\", \"name\": \"Addison Teague\"}, {\"credit_id\": \"54491837c3a3680fb1001c5a\", \"department\": \"Art\", \"gender\": 2, \"id\": 1376887, \"job\": \"Set Designer\", \"name\": \"C. Scott Baker\"}, {\"credit_id\": \"54491878c3a3680fb4001c9d\", \"department\": \"Art\", \"gender\": 0, \"id\": 1376888, \"job\": \"Set Designer\", \"name\": \"Luke Caska\"}, {\"credit_id\": \"544918dac3a3680fa5001ae0\", \"department\": \"Art\", \"gender\": 0, \"id\": 1376889, \"job\": \"Set Designer\", \"name\": \"David Chow\"}, {\"credit_id\": \"544919110e0a267486001b68\", \"department\": \"Art\", \"gender\": 0, \"id\": 1376890, \"job\": \"Set Designer\", \"name\": \"Jonathan Dyer\"}, {\"credit_id\": \"54491967c3a3680faa001b5e\", \"department\": \"Art\", \"gender\": 0, \"id\": 1376891, \"job\": \"Set Designer\", \"name\": \"Joseph Hiura\"}, {\"credit_id\": \"54491997c3a3680fb1001c8a\", \"department\": \"Art\", \"gender\": 0, \"id\": 1376892, \"job\": \"Art Department Coordinator\", \"name\": \"Rebecca Jellie\"}, {\"credit_id\": \"544919ba0e0a26748f001b42\", \"department\": \"Art\", \"gender\": 0, \"id\": 1376893, \"job\": \"Set Designer\", \"name\": \"Robert Andrew Johnson\"}, {\"credit_id\": \"54491b1dc3a3680faa001b8c\", \"department\": \"Art\", \"gender\": 0, \"id\": 1376895, \"job\": \"Assistant Art Director\", \"name\": \"Mike Stassi\"}, {\"credit_id\": \"54491b79c3a3680fbb001826\", \"department\": \"Art\", \"gender\": 0, \"id\": 1376897, \"job\": \"Construction Coordinator\", \"name\": \"John Villarino\"}, {\"credit_id\": \"54491baec3a3680fb4001ce6\", \"department\": \"Art\", \"gender\": 2, \"id\": 1376898, \"job\": \"Assistant Art Director\", \"name\": \"Jeffrey Wisniewski\"}, {\"credit_id\": \"54491d2fc3a3680fb4001d07\", \"department\": \"Editing\", \"gender\": 0, \"id\": 1376899, \"job\": \"Dialogue Editor\", \"name\": \"Cheryl Nardi\"}, {\"credit_id\": \"54491d86c3a3680fa5001b2f\", \"department\": \"Editing\", \"gender\": 0, \"id\": 1376901, \"job\": \"Dialogue Editor\", \"name\": \"Marshall Winn\"}, {\"credit_id\": \"54491d9dc3a3680faa001bb0\", \"department\": \"Sound\", \"gender\": 0, \"id\": 1376902, \"job\": \"Supervising Sound Editor\", \"name\": \"Gwendolyn Yates Whittle\"}, {\"credit_id\": \"54491dc10e0a267486001bce\", \"department\": \"Sound\", \"gender\": 0, \"id\": 1376903, \"job\": \"Sound Re-Recording Mixer\", \"name\": \"William Stein\"}, {\"credit_id\": \"54491f500e0a26747c001c07\", \"department\": \"Crew\", \"gender\": 0, \"id\": 1376909, \"job\": \"Choreographer\", \"name\": \"Lula Washington\"}, {\"credit_id\": \"549599239251412c4e002a2e\", \"department\": \"Visual Effects\", \"gender\": 0, \"id\": 1391692, \"job\": \"Visual Effects Producer\", \"name\": \"Chris Del Conte\"}, {\"credit_id\": \"54959d54c3a36831b8001d9a\", \"department\": \"Visual Effects\", \"gender\": 2, \"id\": 1391695, \"job\": \"Visual Effects Supervisor\", \"name\": \"R. Christopher White\"}, {\"credit_id\": \"54959bdf9251412c4e002a66\", \"department\": \"Visual Effects\", \"gender\": 0, \"id\": 1394070, \"job\": \"Visual Effects Supervisor\", \"name\": \"Dan Lemmon\"}, {\"credit_id\": \"5495971d92514132ed002922\", \"department\": \"Sound\", \"gender\": 0, \"id\": 1394129, \"job\": \"Sound Effects Editor\", \"name\": \"Tim Nielsen\"}, {\"credit_id\": \"5592b25792514152cc0011aa\", \"department\": \"Crew\", \"gender\": 0, \"id\": 1394286, \"job\": \"CG Supervisor\", \"name\": \"Michael Mulholland\"}, {\"credit_id\": \"54959a329251416e2b004355\", \"department\": \"Crew\", \"gender\": 0, \"id\": 1394750, \"job\": \"Visual Effects Editor\", \"name\": \"Thomas Nittmann\"}, {\"credit_id\": \"54959d6dc3a3686ae9004401\", \"department\": \"Visual Effects\", \"gender\": 0, \"id\": 1394755, \"job\": \"Visual Effects Supervisor\", \"name\": \"Edson Williams\"}, {\"credit_id\": \"5495a08fc3a3686ae300441c\", \"department\": \"Editing\", \"gender\": 0, \"id\": 1394953, \"job\": \"Digital Intermediate\", \"name\": \"Christine Carr\"}, {\"credit_id\": \"55402d659251413d6d000249\", \"department\": \"Visual Effects\", \"gender\": 0, \"id\": 1395269, \"job\": \"Visual Effects Supervisor\", \"name\": \"John Bruno\"}, {\"credit_id\": \"54959e7b9251416e1e003f3e\", \"department\": \"Camera\", \"gender\": 0, \"id\": 1398970, \"job\": \"Steadicam Operator\", \"name\": \"David Emmerichs\"}, {\"credit_id\": \"54959734c3a3686ae10045e0\", \"department\": \"Sound\", \"gender\": 0, \"id\": 1400906, \"job\": \"Sound Effects Editor\", \"name\": \"Christopher Scarabosio\"}, {\"credit_id\": \"549595dd92514130fc002d79\", \"department\": \"Production\", \"gender\": 0, \"id\": 1401784, \"job\": \"Production Supervisor\", \"name\": \"Jennifer Teves\"}, {\"credit_id\": \"549596009251413af70028cc\", \"department\": \"Production\", \"gender\": 0, \"id\": 1401785, \"job\": \"Production Manager\", \"name\": \"Brigitte Yorke\"}, {\"credit_id\": \"549596e892514130fc002d99\", \"department\": \"Sound\", \"gender\": 0, \"id\": 1401786, \"job\": \"Sound Effects Editor\", \"name\": \"Ken Fischer\"}, {\"credit_id\": \"549598229251412c4e002a1c\", \"department\": \"Crew\", \"gender\": 0, \"id\": 1401787, \"job\": \"Special Effects Coordinator\", \"name\": \"Iain Hutton\"}, {\"credit_id\": \"549598349251416e2b00432b\", \"department\": \"Crew\", \"gender\": 0, \"id\": 1401788, \"job\": \"Special Effects Coordinator\", \"name\": \"Steve Ingram\"}, {\"credit_id\": \"54959905c3a3686ae3004324\", \"department\": \"Visual Effects\", \"gender\": 0, \"id\": 1401789, \"job\": \"Visual Effects Producer\", \"name\": \"Joyce Cox\"}, {\"credit_id\": \"5495994b92514132ed002951\", \"department\": \"Visual Effects\", \"gender\": 0, \"id\": 1401790, \"job\": \"Visual Effects Producer\", \"name\": \"Jenny Foster\"}, {\"credit_id\": \"549599cbc3a3686ae1004613\", \"department\": \"Crew\", \"gender\": 0, \"id\": 1401791, \"job\": \"Visual Effects Editor\", \"name\": \"Christopher Marino\"}, {\"credit_id\": \"549599f2c3a3686ae100461e\", \"department\": \"Crew\", \"gender\": 0, \"id\": 1401792, \"job\": \"Visual Effects Editor\", \"name\": \"Jim Milton\"}, {\"credit_id\": \"54959a51c3a3686af3003eb5\", \"department\": \"Visual Effects\", \"gender\": 0, \"id\": 1401793, \"job\": \"Visual Effects Producer\", \"name\": \"Cyndi Ochs\"}, {\"credit_id\": \"54959a7cc3a36811530026f4\", \"department\": \"Crew\", \"gender\": 0, \"id\": 1401794, \"job\": \"Visual Effects Editor\", \"name\": \"Lucas Putnam\"}, {\"credit_id\": \"54959b91c3a3680ff5002cb4\", \"department\": \"Visual Effects\", \"gender\": 0, \"id\": 1401795, \"job\": \"Visual Effects Supervisor\", \"name\": \"Anthony \\'Max\\' Ivins\"}, {\"credit_id\": \"54959bb69251412c4e002a5f\", \"department\": \"Visual Effects\", \"gender\": 0, \"id\": 1401796, \"job\": \"Visual Effects Supervisor\", \"name\": \"John Knoll\"}, {\"credit_id\": \"54959cbbc3a3686ae3004391\", \"department\": \"Visual Effects\", \"gender\": 2, \"id\": 1401799, \"job\": \"Visual Effects Supervisor\", \"name\": \"Eric Saindon\"}, {\"credit_id\": \"54959d06c3a3686ae90043f6\", \"department\": \"Visual Effects\", \"gender\": 0, \"id\": 1401800, \"job\": \"Visual Effects Supervisor\", \"name\": \"Wayne Stables\"}, {\"credit_id\": \"54959d259251416e1e003f11\", \"department\": \"Visual Effects\", \"gender\": 0, \"id\": 1401801, \"job\": \"Visual Effects Supervisor\", \"name\": \"David Stinnett\"}, {\"credit_id\": \"54959db49251413af7002975\", \"department\": \"Visual Effects\", \"gender\": 0, \"id\": 1401803, \"job\": \"Visual Effects Supervisor\", \"name\": \"Guy Williams\"}, {\"credit_id\": \"54959de4c3a3681153002750\", \"department\": \"Crew\", \"gender\": 0, \"id\": 1401804, \"job\": \"Stunt Coordinator\", \"name\": \"Stuart Thorp\"}, {\"credit_id\": \"54959ef2c3a3680fc60027f2\", \"department\": \"Lighting\", \"gender\": 0, \"id\": 1401805, \"job\": \"Best Boy Electric\", \"name\": \"Giles Coburn\"}, {\"credit_id\": \"54959f07c3a3680fc60027f9\", \"department\": \"Camera\", \"gender\": 2, \"id\": 1401806, \"job\": \"Still Photographer\", \"name\": \"Mark Fellman\"}, {\"credit_id\": \"54959f47c3a3681153002774\", \"department\": \"Lighting\", \"gender\": 0, \"id\": 1401807, \"job\": \"Lighting Technician\", \"name\": \"Scott Sprague\"}, {\"credit_id\": \"54959f8cc3a36831b8001df2\", \"department\": \"Visual Effects\", \"gender\": 0, \"id\": 1401808, \"job\": \"Animation Director\", \"name\": \"Jeremy Hollobon\"}, {\"credit_id\": \"54959fa0c3a36831b8001dfb\", \"department\": \"Visual Effects\", \"gender\": 0, \"id\": 1401809, \"job\": \"Animation Director\", \"name\": \"Orlando Meunier\"}, {\"credit_id\": \"54959fb6c3a3686af3003f54\", \"department\": \"Visual Effects\", \"gender\": 0, \"id\": 1401810, \"job\": \"Animation Director\", \"name\": \"Taisuke Tanimura\"}, {\"credit_id\": \"54959fd2c3a36831b8001e02\", \"department\": \"Costume & Make-Up\", \"gender\": 0, \"id\": 1401812, \"job\": \"Set Costumer\", \"name\": \"Lilia Mishel Acevedo\"}, {\"credit_id\": \"54959ff9c3a3686ae300440c\", \"department\": \"Costume & Make-Up\", \"gender\": 0, \"id\": 1401814, \"job\": \"Set Costumer\", \"name\": \"Alejandro M. Hernandez\"}, {\"credit_id\": \"5495a0ddc3a3686ae10046fe\", \"department\": \"Editing\", \"gender\": 0, \"id\": 1401815, \"job\": \"Digital Intermediate\", \"name\": \"Marvin Hall\"}, {\"credit_id\": \"5495a1f7c3a3686ae3004443\", \"department\": \"Production\", \"gender\": 0, \"id\": 1401816, \"job\": \"Publicist\", \"name\": \"Judy Alley\"}, {\"credit_id\": \"5592b29fc3a36869d100002f\", \"department\": \"Crew\", \"gender\": 0, \"id\": 1418381, \"job\": \"CG Supervisor\", \"name\": \"Mike Perry\"}, {\"credit_id\": \"5592b23a9251415df8001081\", \"department\": \"Crew\", \"gender\": 0, \"id\": 1426854, \"job\": \"CG Supervisor\", \"name\": \"Andrew Morley\"}, {\"credit_id\": \"55491e1192514104c40002d8\", \"department\": \"Art\", \"gender\": 0, \"id\": 1438901, \"job\": \"Conceptual Design\", \"name\": \"Seth Engstrom\"}, {\"credit_id\": \"5525d5809251417276002b06\", \"department\": \"Crew\", \"gender\": 0, \"id\": 1447362, \"job\": \"Visual Effects Art Director\", \"name\": \"Eric Oliver\"}, {\"credit_id\": \"554427ca925141586500312a\", \"department\": \"Visual Effects\", \"gender\": 0, \"id\": 1447503, \"job\": \"Modeling\", \"name\": \"Matsune Suzuki\"}, {\"credit_id\": \"551906889251415aab001c88\", \"department\": \"Art\", \"gender\": 0, \"id\": 1447524, \"job\": \"Art Department Manager\", \"name\": \"Paul Tobin\"}, {\"credit_id\": \"5592af8492514152cc0010de\", \"department\": \"Costume & Make-Up\", \"gender\": 0, \"id\": 1452643, \"job\": \"Hairstylist\", \"name\": \"Roxane Griffin\"}, {\"credit_id\": \"553d3c109251415852001318\", \"department\": \"Lighting\", \"gender\": 0, \"id\": 1453938, \"job\": \"Lighting Artist\", \"name\": \"Arun Ram-Mohan\"}, {\"credit_id\": \"5592af4692514152d5001355\", \"department\": \"Costume & Make-Up\", \"gender\": 0, \"id\": 1457305, \"job\": \"Makeup Artist\", \"name\": \"Georgia Lockhart-Adams\"}, {\"credit_id\": \"5592b2eac3a36877470012a5\", \"department\": \"Crew\", \"gender\": 0, \"id\": 1466035, \"job\": \"CG Supervisor\", \"name\": \"Thrain Shadbolt\"}, {\"credit_id\": \"5592b032c3a36877450015f1\", \"department\": \"Crew\", \"gender\": 0, \"id\": 1483220, \"job\": \"CG Supervisor\", \"name\": \"Brad Alexander\"}, {\"credit_id\": \"5592b05592514152d80012f6\", \"department\": \"Crew\", \"gender\": 0, \"id\": 1483221, \"job\": \"CG Supervisor\", \"name\": \"Shadi Almassizadeh\"}, {\"credit_id\": \"5592b090c3a36877570010b5\", \"department\": \"Crew\", \"gender\": 0, \"id\": 1483222, \"job\": \"CG Supervisor\", \"name\": \"Simon Clutterbuck\"}, {\"credit_id\": \"5592b0dbc3a368774b00112c\", \"department\": \"Crew\", \"gender\": 0, \"id\": 1483223, \"job\": \"CG Supervisor\", \"name\": \"Graeme Demmocks\"}, {\"credit_id\": \"5592b0fe92514152db0010c1\", \"department\": \"Crew\", \"gender\": 0, \"id\": 1483224, \"job\": \"CG Supervisor\", \"name\": \"Adrian Fernandes\"}, {\"credit_id\": \"5592b11f9251415df8001059\", \"department\": \"Crew\", \"gender\": 0, \"id\": 1483225, \"job\": \"CG Supervisor\", \"name\": \"Mitch Gates\"}, {\"credit_id\": \"5592b15dc3a3687745001645\", \"department\": \"Crew\", \"gender\": 0, \"id\": 1483226, \"job\": \"CG Supervisor\", \"name\": \"Jerry Kung\"}, {\"credit_id\": \"5592b18e925141645a0004ae\", \"department\": \"Crew\", \"gender\": 0, \"id\": 1483227, \"job\": \"CG Supervisor\", \"name\": \"Andy Lomas\"}, {\"credit_id\": \"5592b1bfc3a368775d0010e7\", \"department\": \"Crew\", \"gender\": 0, \"id\": 1483228, \"job\": \"CG Supervisor\", \"name\": \"Sebastian Marino\"}, {\"credit_id\": \"5592b2049251415df8001078\", \"department\": \"Crew\", \"gender\": 0, \"id\": 1483229, \"job\": \"CG Supervisor\", \"name\": \"Matthias Menz\"}, {\"credit_id\": \"5592b27b92514152d800136a\", \"department\": \"Crew\", \"gender\": 0, \"id\": 1483230, \"job\": \"CG Supervisor\", \"name\": \"Sergei Nevshupov\"}, {\"credit_id\": \"5592b2c3c3a36869e800003c\", \"department\": \"Crew\", \"gender\": 0, \"id\": 1483231, \"job\": \"CG Supervisor\", \"name\": \"Philippe Rebours\"}, {\"credit_id\": \"5592b317c3a36877470012af\", \"department\": \"Crew\", \"gender\": 0, \"id\": 1483232, \"job\": \"CG Supervisor\", \"name\": \"Michael Takarangi\"}, {\"credit_id\": \"5592b345c3a36877470012bb\", \"department\": \"Crew\", \"gender\": 0, \"id\": 1483233, \"job\": \"CG Supervisor\", \"name\": \"David Weitzberg\"}, {\"credit_id\": \"5592b37cc3a368775100113b\", \"department\": \"Crew\", \"gender\": 0, \"id\": 1483234, \"job\": \"CG Supervisor\", \"name\": \"Ben White\"}, {\"credit_id\": \"573c8e2f9251413f5d000094\", \"department\": \"Crew\", \"gender\": 1, \"id\": 1621932, \"job\": \"Stunts\", \"name\": \"Min Windle\"}]'"
     },
     "execution_count": 15,
     "metadata": {},
     "output_type": "execute_result"
    }
   ],
   "source": [
    "#We have a lot of dictionaries just for a single record. We only chhose the dict where Director exists as a key and extarct the values for that only\n",
    "movies.iloc[0].crew"
   ]
  },
  {
   "cell_type": "code",
   "execution_count": 16,
   "id": "c48a9ac6",
   "metadata": {
    "id": "c48a9ac6",
    "pycharm": {
     "name": "#%%\n"
    }
   },
   "outputs": [],
   "source": [
    "def Fetch_Director(obj):\n",
    "    L = []\n",
    "    for i in ast.literal_eval(obj):\n",
    "        if i['job']=='Director':\n",
    "            L.append(i['name']) \n",
    "    return L"
   ]
  },
  {
   "cell_type": "code",
   "execution_count": 17,
   "id": "488468c0",
   "metadata": {
    "id": "488468c0",
    "pycharm": {
     "name": "#%%\n"
    }
   },
   "outputs": [],
   "source": [
    "movies['crew']=movies['crew'].apply(Fetch_Director)"
   ]
  },
  {
   "cell_type": "code",
   "execution_count": 18,
   "id": "31eeffb9",
   "metadata": {
    "id": "31eeffb9",
    "outputId": "825658ef-dd82-4fc7-ece9-1cb267b57be1",
    "pycharm": {
     "name": "#%%\n"
    }
   },
   "outputs": [
    {
     "data": {
      "text/plain": "'In the 22nd century, a paraplegic Marine is dispatched to the moon Pandora on a unique mission, but becomes torn between following orders and protecting an alien civilization.'"
     },
     "execution_count": 18,
     "metadata": {},
     "output_type": "execute_result"
    }
   ],
   "source": [
    "#overview is string and we want to convert into list\n",
    "movies['overview'][0]"
   ]
  },
  {
   "cell_type": "code",
   "execution_count": 19,
   "id": "c8b306a7",
   "metadata": {
    "id": "c8b306a7",
    "pycharm": {
     "name": "#%%\n"
    }
   },
   "outputs": [],
   "source": [
    "movies['overview']=movies['overview'].apply(lambda x:x.split())"
   ]
  },
  {
   "cell_type": "code",
   "execution_count": 20,
   "id": "805d0b22",
   "metadata": {
    "id": "805d0b22",
    "outputId": "1f339ea1-3d40-4b01-ba86-ce96c80b9922",
    "pycharm": {
     "name": "#%%\n"
    }
   },
   "outputs": [
    {
     "data": {
      "text/plain": "      movie_id                                     title  \\\n0        19995                                    Avatar   \n1          285  Pirates of the Caribbean: At World's End   \n2       206647                                   Spectre   \n3        49026                     The Dark Knight Rises   \n4        49529                               John Carter   \n...        ...                                       ...   \n4804      9367                               El Mariachi   \n4805     72766                                 Newlyweds   \n4806    231617                 Signed, Sealed, Delivered   \n4807    126186                          Shanghai Calling   \n4808     25975                         My Date with Drew   \n\n                                               overview  \\\n0     [In, the, 22nd, century,, a, paraplegic, Marin...   \n1     [Captain, Barbossa,, long, believed, to, be, d...   \n2     [A, cryptic, message, from, Bond’s, past, send...   \n3     [Following, the, death, of, District, Attorney...   \n4     [John, Carter, is, a, war-weary,, former, mili...   \n...                                                 ...   \n4804  [El, Mariachi, just, wants, to, play, his, gui...   \n4805  [A, newlywed, couple's, honeymoon, is, upended...   \n4806  [\"Signed,, Sealed,, Delivered\", introduces, a,...   \n4807  [When, ambitious, New, York, attorney, Sam, is...   \n4808  [Ever, since, the, second, grade, when, he, fi...   \n\n                                             genres  \\\n0     [Action, Adventure, Fantasy, Science Fiction]   \n1                      [Adventure, Fantasy, Action]   \n2                        [Action, Adventure, Crime]   \n3                  [Action, Crime, Drama, Thriller]   \n4              [Action, Adventure, Science Fiction]   \n...                                             ...   \n4804                      [Action, Crime, Thriller]   \n4805                              [Comedy, Romance]   \n4806             [Comedy, Drama, Romance, TV Movie]   \n4807                                             []   \n4808                                  [Documentary]   \n\n                                               keywords  \\\n0     [culture clash, future, space war, space colon...   \n1     [ocean, drug abuse, exotic island, east india ...   \n2     [spy, based on novel, secret agent, sequel, mi...   \n3     [dc comics, crime fighter, terrorist, secret i...   \n4     [based on novel, mars, medallion, space travel...   \n...                                                 ...   \n4804  [united states–mexico barrier, legs, arms, pap...   \n4805                                                 []   \n4806  [date, love at first sight, narration, investi...   \n4807                                                 []   \n4808          [obsession, camcorder, crush, dream girl]   \n\n                                                   cast  \\\n0      [Sam Worthington, Zoe Saldana, Sigourney Weaver]   \n1         [Johnny Depp, Orlando Bloom, Keira Knightley]   \n2          [Daniel Craig, Christoph Waltz, Léa Seydoux]   \n3          [Christian Bale, Michael Caine, Gary Oldman]   \n4        [Taylor Kitsch, Lynn Collins, Samantha Morton]   \n...                                                 ...   \n4804  [Carlos Gallardo, Jaime de Hoyos, Peter Marqua...   \n4805       [Edward Burns, Kerry Bishé, Marsha Dietlein]   \n4806         [Eric Mabius, Kristin Booth, Crystal Lowe]   \n4807          [Daniel Henney, Eliza Coupe, Bill Paxton]   \n4808  [Drew Barrymore, Brian Herzlinger, Corey Feldman]   \n\n                                          crew  \n0                              [James Cameron]  \n1                             [Gore Verbinski]  \n2                                 [Sam Mendes]  \n3                          [Christopher Nolan]  \n4                             [Andrew Stanton]  \n...                                        ...  \n4804                        [Robert Rodriguez]  \n4805                            [Edward Burns]  \n4806                             [Scott Smith]  \n4807                             [Daniel Hsia]  \n4808  [Brian Herzlinger, Jon Gunn, Brett Winn]  \n\n[4806 rows x 7 columns]",
      "text/html": "<div>\n<style scoped>\n    .dataframe tbody tr th:only-of-type {\n        vertical-align: middle;\n    }\n\n    .dataframe tbody tr th {\n        vertical-align: top;\n    }\n\n    .dataframe thead th {\n        text-align: right;\n    }\n</style>\n<table border=\"1\" class=\"dataframe\">\n  <thead>\n    <tr style=\"text-align: right;\">\n      <th></th>\n      <th>movie_id</th>\n      <th>title</th>\n      <th>overview</th>\n      <th>genres</th>\n      <th>keywords</th>\n      <th>cast</th>\n      <th>crew</th>\n    </tr>\n  </thead>\n  <tbody>\n    <tr>\n      <th>0</th>\n      <td>19995</td>\n      <td>Avatar</td>\n      <td>[In, the, 22nd, century,, a, paraplegic, Marin...</td>\n      <td>[Action, Adventure, Fantasy, Science Fiction]</td>\n      <td>[culture clash, future, space war, space colon...</td>\n      <td>[Sam Worthington, Zoe Saldana, Sigourney Weaver]</td>\n      <td>[James Cameron]</td>\n    </tr>\n    <tr>\n      <th>1</th>\n      <td>285</td>\n      <td>Pirates of the Caribbean: At World's End</td>\n      <td>[Captain, Barbossa,, long, believed, to, be, d...</td>\n      <td>[Adventure, Fantasy, Action]</td>\n      <td>[ocean, drug abuse, exotic island, east india ...</td>\n      <td>[Johnny Depp, Orlando Bloom, Keira Knightley]</td>\n      <td>[Gore Verbinski]</td>\n    </tr>\n    <tr>\n      <th>2</th>\n      <td>206647</td>\n      <td>Spectre</td>\n      <td>[A, cryptic, message, from, Bond’s, past, send...</td>\n      <td>[Action, Adventure, Crime]</td>\n      <td>[spy, based on novel, secret agent, sequel, mi...</td>\n      <td>[Daniel Craig, Christoph Waltz, Léa Seydoux]</td>\n      <td>[Sam Mendes]</td>\n    </tr>\n    <tr>\n      <th>3</th>\n      <td>49026</td>\n      <td>The Dark Knight Rises</td>\n      <td>[Following, the, death, of, District, Attorney...</td>\n      <td>[Action, Crime, Drama, Thriller]</td>\n      <td>[dc comics, crime fighter, terrorist, secret i...</td>\n      <td>[Christian Bale, Michael Caine, Gary Oldman]</td>\n      <td>[Christopher Nolan]</td>\n    </tr>\n    <tr>\n      <th>4</th>\n      <td>49529</td>\n      <td>John Carter</td>\n      <td>[John, Carter, is, a, war-weary,, former, mili...</td>\n      <td>[Action, Adventure, Science Fiction]</td>\n      <td>[based on novel, mars, medallion, space travel...</td>\n      <td>[Taylor Kitsch, Lynn Collins, Samantha Morton]</td>\n      <td>[Andrew Stanton]</td>\n    </tr>\n    <tr>\n      <th>...</th>\n      <td>...</td>\n      <td>...</td>\n      <td>...</td>\n      <td>...</td>\n      <td>...</td>\n      <td>...</td>\n      <td>...</td>\n    </tr>\n    <tr>\n      <th>4804</th>\n      <td>9367</td>\n      <td>El Mariachi</td>\n      <td>[El, Mariachi, just, wants, to, play, his, gui...</td>\n      <td>[Action, Crime, Thriller]</td>\n      <td>[united states–mexico barrier, legs, arms, pap...</td>\n      <td>[Carlos Gallardo, Jaime de Hoyos, Peter Marqua...</td>\n      <td>[Robert Rodriguez]</td>\n    </tr>\n    <tr>\n      <th>4805</th>\n      <td>72766</td>\n      <td>Newlyweds</td>\n      <td>[A, newlywed, couple's, honeymoon, is, upended...</td>\n      <td>[Comedy, Romance]</td>\n      <td>[]</td>\n      <td>[Edward Burns, Kerry Bishé, Marsha Dietlein]</td>\n      <td>[Edward Burns]</td>\n    </tr>\n    <tr>\n      <th>4806</th>\n      <td>231617</td>\n      <td>Signed, Sealed, Delivered</td>\n      <td>[\"Signed,, Sealed,, Delivered\", introduces, a,...</td>\n      <td>[Comedy, Drama, Romance, TV Movie]</td>\n      <td>[date, love at first sight, narration, investi...</td>\n      <td>[Eric Mabius, Kristin Booth, Crystal Lowe]</td>\n      <td>[Scott Smith]</td>\n    </tr>\n    <tr>\n      <th>4807</th>\n      <td>126186</td>\n      <td>Shanghai Calling</td>\n      <td>[When, ambitious, New, York, attorney, Sam, is...</td>\n      <td>[]</td>\n      <td>[]</td>\n      <td>[Daniel Henney, Eliza Coupe, Bill Paxton]</td>\n      <td>[Daniel Hsia]</td>\n    </tr>\n    <tr>\n      <th>4808</th>\n      <td>25975</td>\n      <td>My Date with Drew</td>\n      <td>[Ever, since, the, second, grade, when, he, fi...</td>\n      <td>[Documentary]</td>\n      <td>[obsession, camcorder, crush, dream girl]</td>\n      <td>[Drew Barrymore, Brian Herzlinger, Corey Feldman]</td>\n      <td>[Brian Herzlinger, Jon Gunn, Brett Winn]</td>\n    </tr>\n  </tbody>\n</table>\n<p>4806 rows × 7 columns</p>\n</div>"
     },
     "execution_count": 20,
     "metadata": {},
     "output_type": "execute_result"
    }
   ],
   "source": [
    "movies"
   ]
  },
  {
   "cell_type": "code",
   "execution_count": 21,
   "id": "894767b7",
   "metadata": {
    "id": "894767b7",
    "pycharm": {
     "name": "#%%\n"
    }
   },
   "outputs": [],
   "source": [
    "#movies['genres']=movies['genres'].apply(lambda x:[i.replace(\" \",\"\") for i in x])\n",
    "movies['keywords']=movies['keywords'].apply(lambda x:[i.replace(\" \",\"\") for i in x])\n",
    "movies['cast']=movies['cast'].apply(lambda x:[i.replace(\" \",\"\") for i in x])\n",
    "movies['crew']=movies['crew'].apply(lambda x:[i.replace(\" \",\"\") for i in x])"
   ]
  },
  {
   "cell_type": "code",
   "execution_count": 22,
   "id": "5283705e",
   "metadata": {
    "id": "5283705e",
    "pycharm": {
     "name": "#%%\n"
    }
   },
   "outputs": [],
   "source": [
    "movies['tags'] = movies['overview'] + movies['genres'] + movies['keywords'] + movies['cast'] + movies['crew']"
   ]
  },
  {
   "cell_type": "code",
   "execution_count": 23,
   "id": "689e9a51",
   "metadata": {
    "id": "689e9a51",
    "pycharm": {
     "name": "#%%\n"
    }
   },
   "outputs": [],
   "source": [
    "new_df = movies[['movie_id','title','tags']]"
   ]
  },
  {
   "cell_type": "code",
   "execution_count": 24,
   "id": "dcddcefe",
   "metadata": {
    "scrolled": false,
    "id": "dcddcefe",
    "outputId": "abf48153-5816-419e-8eb1-4ab9a676a359",
    "pycharm": {
     "name": "#%%\n"
    }
   },
   "outputs": [
    {
     "name": "stderr",
     "output_type": "stream",
     "text": [
      "C:\\Users\\tnahd\\AppData\\Local\\Temp/ipykernel_18004/108444274.py:1: SettingWithCopyWarning: \n",
      "A value is trying to be set on a copy of a slice from a DataFrame.\n",
      "Try using .loc[row_indexer,col_indexer] = value instead\n",
      "\n",
      "See the caveats in the documentation: https://pandas.pydata.org/pandas-docs/stable/user_guide/indexing.html#returning-a-view-versus-a-copy\n",
      "  new_df['tags'] = new_df['tags'].apply(lambda x: \" \".join(x))\n"
     ]
    },
    {
     "data": {
      "text/plain": "   movie_id                                     title  \\\n0     19995                                    Avatar   \n1       285  Pirates of the Caribbean: At World's End   \n2    206647                                   Spectre   \n3     49026                     The Dark Knight Rises   \n4     49529                               John Carter   \n\n                                                tags  \n0  In the 22nd century, a paraplegic Marine is di...  \n1  Captain Barbossa, long believed to be dead, ha...  \n2  A cryptic message from Bond’s past sends him o...  \n3  Following the death of District Attorney Harve...  \n4  John Carter is a war-weary, former military ca...  ",
      "text/html": "<div>\n<style scoped>\n    .dataframe tbody tr th:only-of-type {\n        vertical-align: middle;\n    }\n\n    .dataframe tbody tr th {\n        vertical-align: top;\n    }\n\n    .dataframe thead th {\n        text-align: right;\n    }\n</style>\n<table border=\"1\" class=\"dataframe\">\n  <thead>\n    <tr style=\"text-align: right;\">\n      <th></th>\n      <th>movie_id</th>\n      <th>title</th>\n      <th>tags</th>\n    </tr>\n  </thead>\n  <tbody>\n    <tr>\n      <th>0</th>\n      <td>19995</td>\n      <td>Avatar</td>\n      <td>In the 22nd century, a paraplegic Marine is di...</td>\n    </tr>\n    <tr>\n      <th>1</th>\n      <td>285</td>\n      <td>Pirates of the Caribbean: At World's End</td>\n      <td>Captain Barbossa, long believed to be dead, ha...</td>\n    </tr>\n    <tr>\n      <th>2</th>\n      <td>206647</td>\n      <td>Spectre</td>\n      <td>A cryptic message from Bond’s past sends him o...</td>\n    </tr>\n    <tr>\n      <th>3</th>\n      <td>49026</td>\n      <td>The Dark Knight Rises</td>\n      <td>Following the death of District Attorney Harve...</td>\n    </tr>\n    <tr>\n      <th>4</th>\n      <td>49529</td>\n      <td>John Carter</td>\n      <td>John Carter is a war-weary, former military ca...</td>\n    </tr>\n  </tbody>\n</table>\n</div>"
     },
     "execution_count": 24,
     "metadata": {},
     "output_type": "execute_result"
    }
   ],
   "source": [
    "new_df['tags'] = new_df['tags'].apply(lambda x: \" \".join(x))\n",
    "new_df.head()"
   ]
  },
  {
   "cell_type": "code",
   "execution_count": 25,
   "id": "db97b3d9",
   "metadata": {
    "id": "db97b3d9",
    "pycharm": {
     "name": "#%%\n"
    }
   },
   "outputs": [],
   "source": [
    "from sklearn.feature_extraction.text import CountVectorizer\n",
    "cv = CountVectorizer(max_features=5000,stop_words='english')"
   ]
  },
  {
   "cell_type": "code",
   "execution_count": 26,
   "id": "8bcf9ab8",
   "metadata": {
    "id": "8bcf9ab8",
    "outputId": "46c39c19-ca16-4cfb-e683-930ea11828dc",
    "pycharm": {
     "name": "#%%\n"
    }
   },
   "outputs": [
    {
     "data": {
      "text/plain": "(4806, 5000)"
     },
     "execution_count": 26,
     "metadata": {},
     "output_type": "execute_result"
    }
   ],
   "source": [
    "vector = cv.fit_transform(new_df['tags']).toarray()\n",
    "vector.shape"
   ]
  },
  {
   "cell_type": "code",
   "execution_count": 27,
   "id": "d88d94e0",
   "metadata": {
    "id": "d88d94e0",
    "outputId": "5a129410-dddd-4bab-8ff4-b40c3cd3707e",
    "pycharm": {
     "name": "#%%\n"
    }
   },
   "outputs": [
    {
     "data": {
      "text/plain": "array([0, 0, 0, ..., 0, 0, 0], dtype=int64)"
     },
     "execution_count": 27,
     "metadata": {},
     "output_type": "execute_result"
    }
   ],
   "source": [
    "vector[0]"
   ]
  },
  {
   "cell_type": "code",
   "execution_count": 28,
   "id": "ed91a7a7",
   "metadata": {
    "id": "ed91a7a7",
    "outputId": "19e3297d-6806-4590-eb33-bd9413cd4e14",
    "pycharm": {
     "name": "#%%\n"
    }
   },
   "outputs": [
    {
     "data": {
      "text/plain": "['000',\n '007',\n '10',\n '100',\n '11',\n '12',\n '13',\n '14',\n '15',\n '16',\n '17',\n '18',\n '18th',\n '19',\n '1930s',\n '1940s',\n '1950s',\n '1960s',\n '1970s',\n '1980',\n '1980s',\n '1985',\n '1990s',\n '19th',\n '19thcentury',\n '20',\n '200',\n '2009',\n '20th',\n '24',\n '25',\n '30',\n '300',\n '3d',\n '40',\n '50',\n '500',\n '60',\n '60s',\n '70',\n 'aaron',\n 'aaroneckhart',\n 'abandoned',\n 'abducted',\n 'abigailbreslin',\n 'abilities',\n 'ability',\n 'able',\n 'aboard',\n 'abuse',\n 'abusive',\n 'academy',\n 'accept',\n 'accepted',\n 'accepts',\n 'access',\n 'accident',\n 'accidental',\n 'accidentally',\n 'accompanied',\n 'accomplish',\n 'account',\n 'accountant',\n 'accused',\n 'ace',\n 'achieve',\n 'act',\n 'acting',\n 'action',\n 'actionhero',\n 'actions',\n 'activist',\n 'activities',\n 'activity',\n 'actor',\n 'actors',\n 'actress',\n 'acts',\n 'actual',\n 'actually',\n 'adam',\n 'adams',\n 'adamsandler',\n 'adamshankman',\n 'adaptation',\n 'adapted',\n 'addict',\n 'addicted',\n 'addiction',\n 'adolescence',\n 'adopt',\n 'adopted',\n 'adoption',\n 'adopts',\n 'adrienbrody',\n 'adult',\n 'adultery',\n 'adulthood',\n 'adults',\n 'advantage',\n 'adventure',\n 'adventures',\n 'advertising',\n 'advice',\n 'affair',\n 'affairs',\n 'affection',\n 'affections',\n 'afghanistan',\n 'africa',\n 'african',\n 'africanamerican',\n 'aftercreditsstinger',\n 'afterlife',\n 'aftermath',\n 'age',\n 'aged',\n 'agedifference',\n 'agency',\n 'agenda',\n 'agent',\n 'agents',\n 'aggressive',\n 'aging',\n 'ago',\n 'agree',\n 'agrees',\n 'ahead',\n 'aid',\n 'aided',\n 'aids',\n 'ailing',\n 'air',\n 'airplane',\n 'airplanecrash',\n 'airport',\n 'aka',\n 'al',\n 'alabama',\n 'alan',\n 'alaska',\n 'albert',\n 'alcohol',\n 'alcoholic',\n 'alcoholism',\n 'alecbaldwin',\n 'alex',\n 'alfredhitchcock',\n 'ali',\n 'alice',\n 'alien',\n 'alieninvasion',\n 'alienlife',\n 'aliens',\n 'alike',\n 'alive',\n 'allen',\n 'alliance',\n 'allied',\n 'allies',\n 'allow',\n 'allows',\n 'ally',\n 'alongside',\n 'alpacino',\n 'alter',\n 'alternate',\n 'alternative',\n 'alzheimer',\n 'amanda',\n 'amandapeet',\n 'amandaseyfried',\n 'amateur',\n 'amazing',\n 'ambassador',\n 'ambition',\n 'ambitious',\n 'ambulance',\n 'ambush',\n 'america',\n 'american',\n 'americanabroad',\n 'americanfootball',\n 'americans',\n 'amid',\n 'amidst',\n 'amnesia',\n 'amp',\n 'amsterdam',\n 'amusementpark',\n 'amy',\n 'amyadams',\n 'amysmart',\n 'analyst',\n 'anarchiccomedy',\n 'ancient',\n 'ancientrome',\n 'ancientworld',\n 'anderson',\n 'andiemacdowell',\n 'andrew',\n 'android',\n 'andy',\n 'andygarcía',\n 'angel',\n 'angela',\n 'angelabassett',\n 'angeles',\n 'angelinajolie',\n 'angels',\n 'anger',\n 'anglee',\n 'angry',\n 'animal',\n 'animalattack',\n 'animalhorror',\n 'animals',\n 'animated',\n 'animation',\n 'anime',\n 'anjelicahuston',\n 'ann',\n 'anna',\n 'annabelle',\n 'annafaris',\n 'annakendrick',\n 'anne',\n 'annehathaway',\n 'annemoss',\n 'annettebening',\n 'annie',\n 'anniversary',\n 'annual',\n 'answer',\n 'answers',\n 'ant',\n 'anthology',\n 'anthony',\n 'anthonyanderson',\n 'anthonyhopkins',\n 'anthonymackie',\n 'anthropomorphism',\n 'anti',\n 'antics',\n 'antihero',\n 'antoinefuqua',\n 'antoniobanderas',\n 'antonyelchin',\n 'apart',\n 'apartheid',\n 'apartment',\n 'ape',\n 'apes',\n 'apocalypse',\n 'apocalyptic',\n 'apparent',\n 'apparently',\n 'appear',\n 'appears',\n 'apple',\n 'appointed',\n 'apprentice',\n 'approach',\n 'approaches',\n 'approaching',\n 'april',\n 'aquarium',\n 'arab',\n 'arch',\n 'archaeologist',\n 'archeology',\n 'archer',\n 'architect',\n 'arctic',\n 'area',\n 'aren',\n 'arena',\n 'argument',\n 'arise',\n 'aristocrat',\n 'armed',\n 'arms',\n 'army',\n 'arnold',\n 'arnoldschwarzenegger',\n 'arrangedmarriage',\n 'arrangement',\n 'arrest',\n 'arrested',\n 'arrival',\n 'arrive',\n 'arrived',\n 'arrives',\n 'arriving',\n 'arrogant',\n 'art',\n 'arthur',\n 'artificialintelligence',\n 'artist',\n 'artistic',\n 'artists',\n 'arts',\n 'ashley',\n 'ashleyjudd',\n 'ashtonkutcher',\n 'asia',\n 'aside',\n 'ask',\n 'asked',\n 'asking',\n 'asks',\n 'aspirations',\n 'aspiring',\n 'assassin',\n 'assassinate',\n 'assassination',\n 'assassins',\n 'assault',\n 'assigned',\n 'assignment',\n 'assist',\n 'assistant',\n 'assumes',\n 'asteroid',\n 'astronaut',\n 'astronauts',\n 'asylum',\n 'atheist',\n 'athlete',\n 'atlantic',\n 'atomicbomb',\n 'attack',\n 'attacked',\n 'attacks',\n 'attempt',\n 'attempting',\n 'attempts',\n 'attending',\n 'attends',\n 'attention',\n 'attic',\n 'attitude',\n 'attorney',\n 'attracted',\n 'attraction',\n 'attractive',\n 'audience',\n 'audiences',\n 'audition',\n 'august',\n 'aunt',\n 'austin',\n 'australia',\n 'australian',\n 'author',\n 'authorities',\n 'authority',\n 'autism',\n 'auto',\n 'avenge',\n 'average',\n 'avoid',\n 'awaits',\n 'awakens',\n 'award',\n 'away',\n 'awry',\n 'ax',\n 'babe',\n 'baby',\n 'bachelor',\n 'backdrop',\n 'backed',\n 'background',\n 'backgrounds',\n 'bad',\n 'badly',\n 'bag',\n 'bahamas',\n 'bail',\n 'balance',\n 'ball',\n 'ballet',\n 'baltimore',\n 'band',\n 'bandits',\n 'bangkok',\n 'banished',\n 'bank',\n 'banker',\n 'bankrobber',\n 'bankrobbery',\n 'bar',\n 'barely',\n 'bargained',\n 'barn',\n 'barney',\n 'baron',\n 'barry',\n 'barrylevinson',\n 'barrysonnenfeld',\n 'bars',\n 'base',\n 'baseball',\n 'based',\n 'basedoncomicbook',\n 'basedongraphicnovel',\n 'basedonnovel',\n 'basedonplay',\n 'basedonstagemusical',\n 'basedontrueevents',\n 'basedontruestory',\n 'basedontvseries',\n 'basedonvideogame',\n 'basedonyoungadultnovel',\n 'basement',\n 'basketball',\n 'batman',\n 'battle',\n 'battlefield',\n 'battles',\n 'battling',\n 'bay',\n 'beach',\n 'bear',\n 'bears',\n 'beast',\n 'beasts',\n 'beat',\n 'beating',\n 'beautiful',\n 'beautifulwoman',\n 'beauty',\n 'becky',\n 'becominganadult',\n 'bed',\n 'bedroom',\n 'beer',\n 'befriends',\n 'began',\n 'begin',\n 'beginning',\n 'begins',\n 'behavior',\n 'beings',\n 'beliefs',\n 'believe',\n 'believed',\n 'believes',\n 'believing',\n 'beloved',\n 'ben',\n 'benaffleck',\n 'beneath',\n 'benfoster',\n 'beniciodeltoro',\n 'benjamin',\n 'benjaminbratt',\n 'benkingsley',\n 'bennett',\n 'benstiller',\n 'bent',\n 'berlin',\n 'best',\n 'bestfriend',\n 'bet',\n 'beth',\n 'betrayal',\n 'betrayed',\n 'bettemidler',\n 'better',\n 'betty',\n 'beverly',\n 'bible',\n 'big',\n 'bigger',\n 'biggest',\n 'biker',\n 'bikini',\n 'billhader',\n 'billionaire',\n 'billmurray',\n 'billnighy',\n 'billpaxton',\n 'billpullman',\n 'billy',\n 'billybobthornton',\n 'billycrudup',\n 'billycrystal',\n 'biography',\n 'bird',\n 'birth',\n 'birthday',\n 'bisexual',\n 'bishop',\n 'bit',\n 'bite',\n 'bitter',\n 'bizarre',\n 'black',\n 'blackmagic',\n 'blackmail',\n 'blackpeople',\n 'blade',\n 'blame',\n 'blind',\n 'bliss',\n 'block',\n 'blonde',\n 'blood',\n 'bloodsplatter',\n 'bloodthirsty',\n 'bloody',\n 'blow',\n 'blue',\n 'board',\n 'boarding',\n 'boardingschool',\n 'boat',\n 'bob',\n 'bobby',\n 'bobbyfarrelly',\n 'bobhoskins',\n 'bodies',\n 'body',\n 'bodyguard',\n 'bold',\n 'bollywood',\n 'bomb',\n 'bombing',\n 'bond',\n 'bonds',\n 'bone',\n 'book',\n 'books',\n 'border',\n 'bored',\n 'boredom',\n 'boring',\n 'born',\n 'boss',\n 'boston',\n 'botched',\n 'bound',\n 'boundaries',\n 'bounty',\n 'bountyhunter',\n 'box',\n 'boxer',\n 'boxing',\n 'boy',\n 'boyfriend',\n 'boys',\n 'bradleycooper',\n 'bradpitt',\n 'brain',\n 'brand',\n 'brave',\n 'bravery',\n 'brazil',\n 'brazilian',\n 'break',\n 'breakdown',\n 'breaking',\n 'breaks',\n 'brendanfraser',\n 'brendangleeson',\n 'brent',\n 'brettratner',\n 'brian',\n 'briandepalma',\n 'bride',\n 'bridge',\n 'brief',\n 'brien',\n 'bright',\n 'brilliant',\n 'bring',\n 'bringing',\n 'brings',\n 'brink',\n 'britain',\n 'british',\n 'britishsecretservice',\n 'brittanymurphy',\n 'broadway',\n 'broke',\n 'broken',\n 'broker',\n 'brooklyn',\n 'brooks',\n 'brothel',\n 'brother',\n 'brotherbrotherrelationship',\n 'brothers',\n 'brothersisterrelationship',\n 'brought',\n 'brown',\n 'bruce',\n 'brucewillis',\n 'brutal',\n 'brutality',\n 'brutally',\n 'bryansinger',\n 'buck',\n 'buddies',\n 'buddy',\n 'buddycomedy',\n 'budget',\n 'build',\n 'building',\n 'built',\n 'bully',\n 'bullying',\n 'bumbling',\n 'bunny',\n 'burglar',\n 'buried',\n 'bus',\n 'bush',\n 'business',\n 'businessman',\n 'bust',\n 'busy',\n 'butler',\n 'buy',\n 'cabin',\n 'caesar',\n 'cage',\n 'cairo',\n 'cal',\n 'california',\n 'called',\n 'calls',\n 'calvin',\n 'camcorder',\n 'came',\n 'camera',\n 'cameraman',\n 'cameras',\n 'camerondiaz',\n 'camp',\n 'campaign',\n 'campbell',\n 'camping',\n 'campus',\n 'canada',\n 'canadian',\n 'cancer',\n 'candidate',\n 'candy',\n 'cannibal',\n 'capable',\n 'capital',\n 'capitalism',\n 'capt',\n 'captain',\n 'captive',\n 'capture',\n 'captured',\n 'captures',\n 'car',\n 'caraccident',\n 'carchase',\n 'carcrash',\n 'card',\n 'care',\n 'career',\n 'carefree',\n 'caretaker',\n 'caribbean',\n 'carjourney',\n 'carl',\n 'carlagugino',\n 'carmen',\n 'carol',\n 'carolina',\n 'carrace',\n 'carrie',\n 'carry',\n 'carrying',\n 'cars',\n 'cartel',\n 'carter',\n 'cartoon',\n 'caryelwes',\n 'case',\n 'cases',\n 'caseyaffleck',\n 'cash',\n 'casino',\n 'cast',\n 'castle',\n 'cat',\n 'cataclysm',\n 'catastrophe',\n 'catch',\n 'catches',\n 'cateblanchett',\n 'catherinedeneuve',\n 'catherinekeener',\n 'catherinezeta',\n 'catholic',\n 'catholicism',\n 'cattle',\n 'caught',\n 'cause',\n 'caused',\n 'causes',\n 'causing',\n 'cavalry',\n 'cave',\n 'celebrate',\n 'celebrated',\n 'celebration',\n 'celebrity',\n 'cellphone',\n 'cemetery',\n 'center',\n 'centered',\n 'centers',\n 'central',\n 'centuries',\n 'century',\n 'ceremony',\n 'certain',\n 'chad',\n 'chain',\n 'chainsaw',\n 'challenge',\n 'challenged',\n 'challenges',\n 'champion',\n 'championship',\n 'chance',\n 'change',\n 'changed',\n 'changes',\n 'changing',\n 'channingtatum',\n 'chaos',\n 'chaotic',\n 'chapter',\n 'character',\n 'characters',\n 'charge',\n 'charged',\n 'charismatic',\n 'charles',\n 'charlie',\n 'charliesheen',\n 'charlizetheron',\n 'charlotte',\n 'charm',\n 'charming',\n 'chase',\n 'chased',\n 'chases',\n 'chauffeur',\n 'chazzpalminteri',\n 'cheating',\n 'cheerleader',\n 'chef',\n 'chemical',\n 'cher',\n 'chicago',\n 'chicken',\n 'chief',\n 'child',\n 'childabuse',\n 'childhero',\n 'childhood',\n 'childprodigy',\n 'children',\n 'chilling',\n 'china',\n 'chinese',\n 'chip',\n 'chiwetelejiofor',\n 'chloe',\n 'chloëgracemoretz',\n 'chloësevigny',\n 'chocolate',\n 'choice',\n 'choices',\n 'choose',\n 'chosen',\n 'chowyun',\n 'chris',\n 'chriscolumbus',\n 'chriscooper',\n 'chrisevans',\n 'chrishemsworth',\n 'chrisklein',\n 'chrispine',\n 'chrisrock',\n 'christ',\n 'christian',\n 'christianbale',\n 'christianity',\n 'christianslater',\n 'christinaapplegate',\n 'christinaricci',\n 'christine',\n 'christmas',\n 'christmasparty',\n 'christmastree',\n 'christopher',\n 'christopherlambert',\n 'christopherlloyd',\n 'christophernolan',\n 'christopherplummer',\n 'christopherwalken',\n 'christophwaltz',\n 'chrisweitz',\n 'chronicle',\n 'chronicles',\n 'chuck',\n 'church',\n 'cia',\n 'cigarettesmoking',\n 'cillianmurphy',\n 'cinema',\n 'circle',\n 'circuit',\n 'circumstances',\n 'circus',\n 'cities',\n 'citizens',\n 'city',\n 'civil',\n 'civilian',\n 'civilization',\n 'civilwar',\n 'claim',\n 'claiming',\n 'claims',\n 'claire',\n 'clairedanes',\n 'claireforlani',\n 'clan',\n 'clark',\n 'clash',\n 'class',\n 'classdifferences',\n 'classes',\n 'classic',\n 'classmate',\n 'classmates',\n 'classroom',\n 'claudevandamme',\n 'clay',\n 'clean',\n 'clear',\n 'clerk',\n 'client',\n 'clients',\n 'climate',\n 'climbing',\n 'clinteastwood',\n 'clique',\n 'cliveowen',\n 'clock',\n 'clone',\n 'cloning',\n 'close',\n 'closed',\n 'closer',\n 'club',\n 'clubs',\n 'clues',\n 'clutches',\n 'coach',\n 'coast',\n 'cocaine',\n 'cocky',\n 'code',\n 'cody',\n 'coffin',\n 'cohen',\n 'col',\n 'cold',\n 'coldwar',\n 'cole',\n 'colin',\n 'colinfarrell',\n 'colinfirth',\n 'collapse',\n 'colleague',\n 'colleagues',\n 'collect',\n 'collection',\n 'collector',\n 'college',\n 'collide',\n 'collins',\n 'collision',\n 'colombia',\n 'colonel',\n 'colony',\n 'color',\n 'colorado',\n 'colorful',\n 'coma',\n 'combat',\n 'combination',\n 'combined',\n 'come',\n 'comeback',\n 'comedian',\n 'comedic',\n 'comedy',\n 'comes',\n 'comet',\n 'comfort',\n 'comic',\n 'comics',\n 'coming',\n 'comingofage',\n 'comingout',\n 'command',\n 'commander',\n 'commercial',\n 'commit',\n 'commitment',\n 'committed',\n 'common',\n 'communication',\n 'community',\n 'companion',\n 'company',\n 'compete',\n 'competing',\n 'competition',\n 'complete',\n 'completely',\n 'complex',\n 'complicated',\n 'complications',\n 'composer',\n 'computer',\n 'computervirus',\n 'conan',\n 'concert',\n 'conclusion',\n 'condition',\n 'conditions',\n 'confederate',\n 'confession',\n 'confidence',\n 'confident',\n 'conflict',\n 'confront',\n 'confronted',\n 'confronts',\n 'confused',\n 'congress',\n 'conman',\n 'connected',\n 'connecticut',\n 'connection',\n 'connections',\n 'connects',\n 'connell',\n 'connie',\n 'connor',\n 'conquer',\n 'conscience',\n 'consequences',\n 'conservative',\n 'considered',\n 'conspiracy',\n 'conspire',\n 'constant',\n 'constantly',\n 'construction',\n 'consumed',\n 'contact',\n 'contain',\n 'containing',\n 'contains',\n 'contemporary',\n 'contend',\n 'contest',\n 'continue',\n 'continues',\n 'continuing',\n 'contract',\n 'control',\n 'controlled',\n 'controlling',\n 'controversial',\n 'convention',\n 'converge',\n 'convict',\n 'convicted',\n 'convince',\n 'convinced',\n 'convinces',\n 'cook',\n ...]"
     },
     "execution_count": 28,
     "metadata": {},
     "output_type": "execute_result"
    }
   ],
   "source": [
    "cv.get_feature_names()"
   ]
  },
  {
   "cell_type": "code",
   "execution_count": 28,
   "id": "dd76f5b5",
   "metadata": {
    "id": "dd76f5b5",
    "pycharm": {
     "name": "#%%\n"
    }
   },
   "outputs": [],
   "source": []
  },
  {
   "cell_type": "code",
   "execution_count": 29,
   "id": "6d38752a",
   "metadata": {
    "id": "6d38752a",
    "outputId": "d7144ad2-0c51-4fbe-b18a-e5ccab74dd06",
    "pycharm": {
     "name": "#%%\n"
    }
   },
   "outputs": [],
   "source": [
    "#pip install import ntlk\n",
    "import nltk\n",
    "#nltk.download()"
   ]
  },
  {
   "cell_type": "code",
   "execution_count": 30,
   "id": "3202ba34",
   "metadata": {
    "id": "3202ba34",
    "outputId": "6ae2c89e-f90e-4ec9-982e-3ae0c18bc475",
    "pycharm": {
     "name": "#%%\n"
    }
   },
   "outputs": [
    {
     "data": {
      "text/plain": "array([[1.        , 0.08980265, 0.05986843, ..., 0.02431083, 0.02777778,\n        0.        ],\n       [0.08980265, 1.        , 0.06451613, ..., 0.02619813, 0.        ,\n        0.        ],\n       [0.05986843, 0.06451613, 1.        , ..., 0.02619813, 0.        ,\n        0.        ],\n       ...,\n       [0.02431083, 0.02619813, 0.02619813, ..., 1.        , 0.0729325 ,\n        0.04732485],\n       [0.02777778, 0.        , 0.        , ..., 0.0729325 , 1.        ,\n        0.05407381],\n       [0.        , 0.        , 0.        , ..., 0.04732485, 0.05407381,\n        1.        ]])"
     },
     "execution_count": 30,
     "metadata": {},
     "output_type": "execute_result"
    }
   ],
   "source": [
    "from sklearn.metrics.pairwise import cosine_similarity \n",
    "#we use cosine dis (theta b/w 2 vec) and not euclidean. Its good whn we deal with very high dim\n",
    "#dis is inv related to similarity (0,1)\n",
    "similarity = cosine_similarity(vector)\n",
    "similarity  #its a matrix where each element (movie) shows similarity sccore with each movie. Obvio aii=1"
   ]
  },
  {
   "cell_type": "code",
   "execution_count": 31,
   "id": "8a621aa0",
   "metadata": {
    "id": "8a621aa0",
    "outputId": "d5eb845c-4bcb-4c26-cc94-427058f82972",
    "pycharm": {
     "name": "#%%\n"
    }
   },
   "outputs": [
    {
     "data": {
      "text/plain": "array([1.        , 0.08980265, 0.05986843, ..., 0.02431083, 0.02777778,\n       0.        ])"
     },
     "execution_count": 31,
     "metadata": {},
     "output_type": "execute_result"
    }
   ],
   "source": [
    "similarity[0]  #Similarity of first movie with second movie is 0.089 and with 3rd movie is 0.059 etc."
   ]
  },
  {
   "cell_type": "code",
   "execution_count": 32,
   "id": "29ae3ce0",
   "metadata": {
    "id": "29ae3ce0",
    "outputId": "eac72cab-b187-42ad-e74d-14fb2f97d7b8",
    "pycharm": {
     "name": "#%%\n"
    }
   },
   "outputs": [
    {
     "data": {
      "text/plain": "3903"
     },
     "execution_count": 32,
     "metadata": {},
     "output_type": "execute_result"
    }
   ],
   "source": [
    "#Fetching Indexes\n",
    "new_df[new_df['title']=='Sinister'].index[0]"
   ]
  },
  {
   "cell_type": "code",
   "execution_count": 33,
   "id": "927c74e7",
   "metadata": {
    "id": "927c74e7",
    "outputId": "70bfa803-33aa-47e2-a402-8249793dd4a2",
    "pycharm": {
     "name": "#%%\n"
    }
   },
   "outputs": [
    {
     "data": {
      "text/plain": "[1.0,\n 0.28426762180748055,\n 0.28171808490950556,\n 0.2672612419124244,\n 0.26190476190476186,\n 0.26064301757134345,\n 0.2602896031476768,\n 0.2519763153394848,\n 0.25,\n 0.24873416908154544,\n 0.2484519974999766,\n 0.2465984809580359,\n 0.24326681639992057,\n 0.24326681639992057,\n 0.24072846024282465,\n 0.24056261216234412,\n 0.23947373603569982,\n 0.2381448361039201,\n 0.2381448361039201,\n 0.23717082451262844,\n 0.23570226039551587,\n 0.23570226039551584,\n 0.2342606428329091,\n 0.23283356616701595,\n 0.2311250817605121,\n 0.2311250817605121,\n 0.2288021576612147,\n 0.22866478019001174,\n 0.2253744679276044,\n 0.22452510468485448,\n 0.22360679774997894,\n 0.22271770159368698,\n 0.22047927592204916,\n 0.2182178902359924,\n 0.21821789023599236,\n 0.2166445612065605,\n 0.21629522817435004,\n 0.21629522817435,\n 0.2151657414559676,\n 0.21428571428571427,\n 0.2130032168075646,\n 0.21081851067789198,\n 0.21004201260420144,\n 0.209980262782904,\n 0.20953951903123735,\n 0.20823168251814142,\n 0.2080125735844609,\n 0.20623947784607635,\n 0.20515248496555452,\n 0.2041241452319315,\n 0.2041241452319315,\n 0.20333142711013957,\n 0.20333142711013957,\n 0.20211302086361077,\n 0.20100756305184242,\n 0.20008168266626025,\n 0.19999999999999998,\n 0.19779694303230888,\n 0.19658927487319616,\n 0.19611613513818402,\n 0.19448665533052603,\n 0.19444444444444448,\n 0.19444444444444448,\n 0.19245008972987526,\n 0.19179881852291683,\n 0.19050019050028572,\n 0.18898223650461357,\n 0.18898223650461357,\n 0.1875,\n 0.1860521018838127,\n 0.18569533817705186,\n 0.18569533817705186,\n 0.18446619684315546,\n 0.18446619684315546,\n 0.18446619684315546,\n 0.18314741859825204,\n 0.18257418583505536,\n 0.18257418583505536,\n 0.181848241863327,\n 0.1800205749557739,\n 0.17960530202677488,\n 0.17960530202677488,\n 0.1781741612749496,\n 0.17791499872137212,\n 0.17766726362967533,\n 0.17766726362967533,\n 0.17766726362967533,\n 0.17677669529663687,\n 0.17391639824998364,\n 0.17391639824998364,\n 0.17376201171422898,\n 0.17376201171422898,\n 0.17358521464109852,\n 0.1714985851425088,\n 0.1701758234142103,\n 0.17010345435994292,\n 0.17010345435994292,\n 0.16839382851364088,\n 0.16666666666666666,\n 0.16666666666666666,\n 0.16666666666666666,\n 0.16666666666666666,\n 0.16666666666666666,\n 0.16666666666666666,\n 0.16666666666666666,\n 0.1649915822768611,\n 0.16439898730535726,\n 0.16439898730535726,\n 0.16343011261515333,\n 0.1617875572323585,\n 0.16037507477489604,\n 0.16037507477489604,\n 0.16037507477489604,\n 0.16037507477489604,\n 0.16037507477489604,\n 0.16025399127347054,\n 0.16012815380508713,\n 0.16012815380508713,\n 0.16012815380508713,\n 0.15876322406928006,\n 0.15748519708717798,\n 0.15748519708717798,\n 0.15617376188860607,\n 0.15617376188860607,\n 0.1543033499620919,\n 0.1543033499620919,\n 0.15294382258037448,\n 0.15249857033260467,\n 0.15214515486254612,\n 0.15214515486254612,\n 0.15214515486254612,\n 0.15194743527951726,\n 0.15194743527951726,\n 0.1518870628109612,\n 0.15075567228888181,\n 0.15075567228888181,\n 0.1496710850223124,\n 0.1496710850223124,\n 0.1496710850223124,\n 0.1496710850223124,\n 0.1496710850223124,\n 0.14907119849998599,\n 0.14907119849998599,\n 0.14907119849998596,\n 0.14907119849998596,\n 0.14907119849998596,\n 0.14907119849998596,\n 0.1481668148335556,\n 0.1474419561548971,\n 0.14698618394803278,\n 0.14586499149789456,\n 0.14586499149789456,\n 0.14586499149789453,\n 0.14586499149789453,\n 0.14583333333333331,\n 0.14583333333333331,\n 0.14547859349066158,\n 0.14547859349066158,\n 0.14547859349066158,\n 0.14547859349066158,\n 0.14506471329641488,\n 0.14506471329641488,\n 0.14506471329641488,\n 0.14433756729740646,\n 0.14433756729740643,\n 0.14433756729740643,\n 0.14360673947588817,\n 0.14291548761875733,\n 0.14291548761875733,\n 0.14291548761875733,\n 0.14291548761875733,\n 0.14291548761875733,\n 0.14291548761875733,\n 0.14285714285714285,\n 0.14285714285714285,\n 0.14213381090374028,\n 0.14213381090374028,\n 0.14213381090374028,\n 0.14213381090374028,\n 0.14213381090374028,\n 0.14213381090374028,\n 0.1414213562373095,\n 0.14085904245475275,\n 0.14085904245475275,\n 0.14085904245475275,\n 0.14085904245475275,\n 0.14085904245475275,\n 0.14002800840280097,\n 0.13900960937138318,\n 0.13900960937138318,\n 0.1388888888888889,\n 0.1388888888888889,\n 0.1388888888888889,\n 0.1388888888888889,\n 0.1388888888888889,\n 0.1386750490563073,\n 0.1386750490563073,\n 0.1386750490563073,\n 0.13699915608779772,\n 0.13699915608779772,\n 0.13654800506215234,\n 0.13608276348795434,\n 0.13608276348795434,\n 0.13608276348795434,\n 0.13608276348795434,\n 0.13608276348795434,\n 0.13608276348795434,\n 0.13518451760896877,\n 0.13518451760896877,\n 0.13518451760896877,\n 0.13518451760896877,\n 0.13518451760896877,\n 0.1336306209562122,\n 0.1336306209562122,\n 0.13344012817090595,\n 0.13344012817090595,\n 0.13344012817090595,\n 0.13333333333333333,\n 0.13333333333333333,\n 0.13333333333333333,\n 0.13333333333333333,\n 0.13333333333333333,\n 0.13333333333333333,\n 0.13245323570650439,\n 0.13245323570650439,\n 0.13245323570650439,\n 0.13176156917368248,\n 0.13176156917368248,\n 0.13130643285972254,\n 0.13130643285972254,\n 0.13074409009212268,\n 0.13074409009212268,\n 0.13074409009212268,\n 0.1301448015738384,\n 0.1301448015738384,\n 0.1301448015738384,\n 0.12909944487358055,\n 0.12909944487358055,\n 0.12858612496840993,\n 0.12858612496840993,\n 0.12858612496840993,\n 0.12858612496840993,\n 0.12830005981991682,\n 0.12830005981991682,\n 0.12830005981991682,\n 0.1270821419438372,\n 0.1270821419438372,\n 0.1270821419438372,\n 0.1259881576697424,\n 0.1259881576697424,\n 0.1259881576697424,\n 0.1259881576697424,\n 0.1259881576697424,\n 0.1259881576697424,\n 0.1256297269074015,\n 0.1256297269074015,\n 0.1256297269074015,\n 0.1256297269074015,\n 0.1256297269074015,\n 0.1256297269074015,\n 0.1256297269074015,\n 0.125,\n 0.125,\n 0.125,\n 0.125,\n 0.12422599874998831,\n 0.12422599874998831,\n 0.12379689211803457,\n 0.12379689211803457,\n 0.12379689211803457,\n 0.12309149097933272,\n 0.12286829679574761,\n 0.1217161238900369,\n 0.1217161238900369,\n 0.1217161238900369,\n 0.1217161238900369,\n 0.1217161238900369,\n 0.1217161238900369,\n 0.1217161238900369,\n 0.12126781251816647,\n 0.12126781251816647,\n 0.12126781251816647,\n 0.12126781251816647,\n 0.12126781251816647,\n 0.12097769771854958,\n 0.1203858530857692,\n 0.11973686801784994,\n 0.11973686801784994,\n 0.11904761904761904,\n 0.11904761904761904,\n 0.11904761904761904,\n 0.11785113019775793,\n 0.11785113019775793,\n 0.11785113019775793,\n 0.11785113019775793,\n 0.11785113019775793,\n 0.11785113019775793,\n 0.11785113019775793,\n 0.11785113019775792,\n 0.11785113019775792,\n 0.11785113019775792,\n 0.11785113019775792,\n 0.11785113019775792,\n 0.1178511301977579,\n 0.1178511301977579,\n 0.1178511301977579,\n 0.1178511301977579,\n 0.1178511301977579,\n 0.1178511301977579,\n 0.11669000700233413,\n 0.11669000700233413,\n 0.11669000700233413,\n 0.1160517706371319,\n 0.1160517706371319,\n 0.1160517706371319,\n 0.1160517706371319,\n 0.11556254088025605,\n 0.11547005383792512,\n 0.11470786693528086,\n 0.11470786693528086,\n 0.11470786693528086,\n 0.11470786693528086,\n 0.11470786693528086,\n 0.11446713662390752,\n 0.11433239009500587,\n 0.11433239009500587,\n 0.11433239009500587,\n 0.11433239009500587,\n 0.11433239009500587,\n 0.11340230290662862,\n 0.11340230290662862,\n 0.1126872339638022,\n 0.1126872339638022,\n 0.11180339887498947,\n 0.11180339887498947,\n 0.11180339887498947,\n 0.11180339887498947,\n 0.11180339887498947,\n 0.11180339887498947,\n 0.11135885079684349,\n 0.11135885079684349,\n 0.1111111111111111,\n 0.1111111111111111,\n 0.1111111111111111,\n 0.1111111111111111,\n 0.1111111111111111,\n 0.1111111111111111,\n 0.1111111111111111,\n 0.1111111111111111,\n 0.1111111111111111,\n 0.1111111111111111,\n 0.11043152607484652,\n 0.11037769642208699,\n 0.11037769642208699,\n 0.10976425998969033,\n 0.10959932487023819,\n 0.10959932487023819,\n 0.10959932487023819,\n 0.10942202738310211,\n 0.10942202738310211,\n 0.10942202738310211,\n 0.10942202738310211,\n 0.10942202738310211,\n 0.1091089451179962,\n 0.1091089451179962,\n 0.1091089451179962,\n 0.1091089451179962,\n 0.10910894511799618,\n 0.10910894511799618,\n 0.10910894511799618,\n 0.10910894511799618,\n 0.10849075915068657,\n 0.10814761408717502,\n 0.10814761408717502,\n 0.10814761408717502,\n 0.10814761408717502,\n 0.10814761408717502,\n 0.10814761408717502,\n 0.10814761408717502,\n 0.10675210253672475,\n 0.10675210253672475,\n 0.10675210253672475,\n 0.10675210253672475,\n 0.10675210253672475,\n 0.10675210253672475,\n 0.10669739994407998,\n 0.10669739994407998,\n 0.10660035817780521,\n 0.10660035817780521,\n 0.10660035817780521,\n 0.10660035817780521,\n 0.10660035817780521,\n 0.10660035817780521,\n 0.105999788000636,\n 0.10583343916682542,\n 0.10583343916682542,\n 0.10540925533894598,\n 0.10540925533894598,\n 0.10540925533894598,\n 0.10540925533894598,\n 0.10540925533894598,\n 0.10499013139145198,\n 0.10425720702853739,\n 0.10425720702853739,\n 0.10425720702853739,\n 0.10425720702853739,\n 0.10425720702853739,\n 0.10425720702853739,\n 0.10425720702853739,\n 0.10411584125907071,\n 0.10411584125907071,\n 0.10411584125907071,\n 0.10411584125907071,\n 0.10411584125907071,\n 0.10411584125907071,\n 0.10336227882434039,\n 0.10314212462587934,\n 0.10286889997472794,\n 0.10286889997472794,\n 0.10286889997472794,\n 0.10286889997472794,\n 0.10286889997472794,\n 0.10286889997472794,\n 0.10286889997472794,\n 0.10206207261596575,\n 0.10206207261596575,\n 0.10206207261596575,\n 0.10206207261596575,\n 0.10206207261596575,\n 0.10206207261596575,\n 0.10180787029692101,\n 0.10166571355506977,\n 0.10166571355506977,\n 0.10166571355506977,\n 0.10166571355506977,\n 0.10166571355506977,\n 0.10166571355506977,\n 0.10166571355506977,\n 0.10166571355506977,\n 0.10050378152592121,\n 0.10050378152592121,\n 0.10050378152592121,\n 0.10050378152592121,\n 0.10050378152592121,\n 0.10050378152592121,\n 0.10050378152592121,\n 0.10050378152592121,\n 0.10050378152592121,\n 0.10050378152592121,\n 0.10050378152592121,\n 0.10050378152592121,\n 0.10050378152592121,\n 0.1,\n 0.1,\n 0.1,\n 0.1,\n 0.1,\n 0.1,\n 0.1,\n 0.1,\n 0.1,\n 0.1,\n 0.1,\n 0.09938079899999065,\n 0.09938079899999065,\n 0.09829463743659808,\n 0.09829463743659808,\n 0.09829463743659808,\n 0.09829463743659808,\n 0.09820927516479827,\n 0.09805806756909201,\n 0.09805806756909201,\n 0.09805806756909201,\n 0.09805806756909201,\n 0.09805806756909201,\n 0.09805806756909201,\n 0.09805806756909201,\n 0.0975342893301088,\n 0.0975342893301088,\n 0.09724332766526303,\n 0.09724332766526303,\n 0.09724332766526303,\n 0.09724332766526303,\n 0.09724332766526303,\n 0.09622504486493763,\n 0.09622504486493763,\n 0.09622504486493762,\n 0.09622504486493762,\n 0.09622504486493762,\n 0.09622504486493762,\n 0.09622504486493762,\n 0.09622504486493762,\n 0.09622504486493762,\n 0.09622504486493762,\n 0.09558988911273406,\n 0.09558988911273406,\n 0.09523809523809523,\n 0.0944911182523068,\n 0.0944911182523068,\n 0.0944911182523068,\n 0.0944911182523068,\n 0.0944911182523068,\n 0.0944911182523068,\n 0.0944911182523068,\n 0.09435641951204964,\n 0.09428090415820634,\n 0.09428090415820634,\n 0.09407208683835971,\n 0.09335200560186731,\n 0.09335200560186731,\n 0.09335200560186731,\n 0.09335200560186731,\n 0.09335200560186731,\n 0.09284766908852593,\n 0.09284766908852593,\n 0.09284766908852593,\n 0.09245003270420485,\n 0.09245003270420485,\n 0.09245003270420485,\n 0.09245003270420485,\n 0.09245003270420485,\n 0.09245003270420485,\n 0.09157370929912602,\n 0.09147021665807528,\n 0.09128709291752768,\n 0.09128709291752768,\n 0.09128709291752768,\n 0.09128709291752768,\n 0.09128709291752768,\n 0.09128709291752768,\n 0.09128709291752768,\n 0.09128709291752768,\n 0.09128709291752768,\n 0.09128709291752768,\n 0.09128709291752768,\n 0.09128709291752768,\n 0.09128709291752768,\n 0.09072184232530289,\n 0.09072184232530289,\n 0.09072184232530289,\n 0.09072184232530289,\n 0.09072184232530289,\n 0.09072184232530289,\n 0.09072184232530289,\n 0.09038769075777339,\n 0.08989331499509895,\n 0.08989331499509895,\n 0.08980265101338746,\n 0.08980265101338746,\n 0.08980265101338746,\n 0.08980265101338746,\n 0.08980265101338746,\n 0.08980265101338746,\n 0.08980265101338746,\n 0.08980265101338746,\n 0.08980265101338746,\n 0.08980265101338746,\n 0.08980265101338746,\n 0.08980265101338746,\n 0.08980265101338746,\n 0.08980265101338746,\n 0.08980265101338746,\n 0.08980265101338746,\n 0.08980265101338746,\n 0.08980265101338746,\n 0.08980265101338746,\n 0.0890870806374748,\n 0.0890870806374748,\n 0.0890870806374748,\n 0.0890870806374748,\n 0.08838834764831843,\n 0.08838834764831843,\n 0.08838834764831843,\n 0.08838834764831843,\n 0.08838834764831843,\n 0.08838834764831843,\n 0.08838834764831843,\n 0.08838834764831843,\n 0.08838834764831843,\n 0.08838834764831843,\n 0.08838834764831843,\n 0.08838834764831843,\n 0.08838834764831843,\n 0.08838834764831843,\n 0.08830215713766959,\n 0.0878410461157883,\n 0.08753762190648169,\n 0.08703882797784893,\n 0.08703882797784893,\n 0.08703882797784893,\n 0.08703882797784893,\n 0.08703882797784893,\n 0.08703882797784893,\n 0.08703882797784893,\n 0.08679260732054925,\n 0.08606629658238703,\n 0.08606629658238703,\n 0.08606629658238703,\n 0.08606629658238703,\n 0.08606629658238703,\n 0.08606629658238703,\n 0.08606629658238703,\n 0.08606629658238703,\n 0.08574929257125441,\n 0.08574929257125441,\n 0.08574929257125441,\n 0.08574929257125441,\n 0.08574929257125441,\n 0.08574929257125441,\n 0.08574929257125441,\n 0.08574929257125441,\n 0.08574929257125441,\n 0.08574929257125441,\n 0.08574929257125441,\n 0.08574929257125441,\n 0.08574929257125441,\n 0.08535791995526398,\n 0.08535791995526398,\n 0.08535791995526398,\n 0.08535791995526398,\n 0.08481889296799708,\n 0.08466675133346033,\n 0.08466675133346033,\n 0.08466675133346033,\n 0.08451542547285165,\n 0.08451542547285165,\n 0.08451542547285165,\n 0.08451542547285165,\n 0.08399210511316159,\n 0.08333333333333333,\n 0.08333333333333333,\n 0.08333333333333333,\n 0.08333333333333333,\n 0.08333333333333333,\n 0.08333333333333333,\n 0.08333333333333333,\n 0.08333333333333333,\n 0.08333333333333333,\n 0.08333333333333333,\n 0.08333333333333333,\n 0.08333333333333333,\n 0.08333333333333333,\n 0.08333333333333333,\n 0.08333333333333333,\n 0.08333333333333333,\n 0.08333333333333333,\n 0.08333333333333333,\n 0.08333333333333333,\n 0.08333333333333333,\n 0.08333333333333333,\n 0.08333333333333333,\n 0.08333333333333333,\n 0.08333333333333333,\n 0.08333333333333333,\n 0.08333333333333333,\n 0.08333333333333333,\n 0.08333333333333333,\n 0.08268982305947231,\n 0.08268982305947231,\n 0.08219949365267865,\n 0.08219949365267865,\n 0.08219949365267865,\n 0.08219949365267865,\n 0.08219949365267865,\n 0.08219949365267865,\n 0.08219949365267865,\n 0.08219949365267865,\n 0.08144629623753681,\n 0.08111071056538127,\n 0.08111071056538127,\n 0.08111071056538127,\n 0.08111071056538127,\n 0.08111071056538127,\n 0.08111071056538127,\n 0.08111071056538127,\n 0.08111071056538127,\n 0.08084520834544431,\n 0.08084520834544431,\n 0.08084520834544431,\n 0.08084520834544431,\n 0.08084520834544431,\n 0.08084520834544431,\n 0.08084520834544431,\n 0.08084520834544431,\n 0.08084520834544431,\n 0.08084520834544431,\n 0.08084520834544431,\n 0.08084520834544431,\n 0.08084520834544431,\n 0.08018753738744802,\n 0.08006407690254357,\n 0.08006407690254357,\n 0.08006407690254357,\n 0.08006407690254357,\n 0.08006407690254357,\n 0.07905694150420949,\n 0.07905694150420949,\n 0.07905694150420949,\n 0.07905694150420949,\n 0.07905694150420949,\n 0.07905694150420949,\n 0.07856742013183862,\n 0.07856742013183862,\n 0.07856742013183862,\n 0.07856742013183862,\n 0.07856742013183862,\n 0.07856742013183862,\n 0.07856742013183862,\n 0.07856742013183862,\n 0.07856742013183862,\n 0.07856742013183862,\n 0.07856742013183862,\n 0.07808688094430304,\n 0.07808688094430304,\n 0.07715167498104596,\n 0.07715167498104596,\n 0.07715167498104596,\n 0.07715167498104596,\n 0.07715167498104596,\n 0.07715167498104596,\n 0.07715167498104596,\n 0.07715167498104596,\n 0.07715167498104594,\n 0.07647191129018724,\n 0.07647191129018724,\n 0.07647191129018724,\n 0.07647191129018724,\n 0.07647191129018724,\n 0.07647191129018724,\n 0.07647191129018724,\n 0.07647191129018724,\n 0.07647191129018724,\n 0.07647191129018724,\n 0.07647191129018724,\n 0.0763915414190176,\n 0.07624928516630233,\n 0.07624928516630233,\n 0.07624928516630233,\n 0.07624928516630233,\n 0.07624928516630233,\n 0.07624928516630233,\n 0.07624928516630233,\n 0.07597371763975863,\n 0.07548513560963971,\n 0.07537783614444091,\n 0.07537783614444091,\n 0.07537783614444091,\n 0.07537783614444091,\n 0.07537783614444091,\n 0.07453559924999299,\n 0.07453559924999299,\n 0.07453559924999299,\n 0.07453559924999299,\n 0.07453559924999299,\n 0.07453559924999299,\n 0.07453559924999299,\n 0.07453559924999298,\n 0.07453559924999298,\n 0.07453559924999298,\n 0.07453559924999298,\n 0.07453559924999298,\n 0.07453559924999298,\n 0.07453559924999298,\n 0.07453559924999298,\n 0.07453559924999298,\n 0.07453559924999298,\n 0.07453559924999298,\n 0.07453559924999298,\n 0.07453559924999298,\n 0.07453559924999298,\n 0.07453559924999298,\n 0.07372097807744857,\n 0.07372097807744857,\n 0.07372097807744857,\n 0.07372097807744857,\n 0.07362101738323101,\n 0.07293249574894728,\n 0.07293249574894728,\n 0.07293249574894728,\n 0.07293249574894728,\n 0.07293249574894728,\n 0.07293249574894728,\n 0.07293249574894728,\n 0.07273929674533079,\n 0.07273929674533079,\n 0.07273929674533079,\n 0.07273929674533079,\n 0.07273929674533079,\n 0.07273929674533079,\n 0.07273929674533079,\n 0.07216878364870322,\n 0.07216878364870322,\n 0.07216878364870322,\n 0.07216878364870322,\n 0.07216878364870322,\n 0.07216878364870322,\n 0.07142857142857142,\n 0.07142857142857142,\n 0.07142857142857142,\n 0.07142857142857142,\n 0.07142857142857142,\n 0.07142857142857142,\n 0.07142857142857142,\n 0.07142857142857142,\n 0.07142857142857142,\n 0.07142857142857142,\n 0.07142857142857142,\n 0.07106690545187014,\n 0.07106690545187014,\n 0.07106690545187014,\n 0.07106690545187014,\n 0.07106690545187014,\n 0.07106690545187014,\n 0.07106690545187014,\n 0.07106690545187014,\n 0.07106690545187014,\n 0.07106690545187014,\n 0.07106690545187014,\n 0.07106690545187014,\n 0.07106690545187014,\n 0.07106690545187014,\n 0.07106690545187014,\n 0.07071067811865475,\n 0.07071067811865475,\n 0.07071067811865475,\n 0.07071067811865475,\n 0.07001400420140048,\n 0.07001400420140048,\n 0.07001400420140048,\n 0.07001400420140048,\n 0.07001400420140048,\n 0.07001400420140048,\n 0.06950480468569159,\n 0.06950480468569159,\n 0.06950480468569159,\n 0.06950480468569159,\n 0.06950480468569159,\n 0.06950480468569159,\n 0.06950480468569159,\n 0.06950480468569159,\n 0.06950480468569159,\n 0.06950480468569159,\n 0.06950480468569159,\n 0.06950480468569159,\n 0.06950480468569159,\n 0.06950480468569159,\n 0.06950480468569159,\n 0.06950480468569159,\n 0.06950480468569159,\n 0.06950480468569159,\n 0.06950480468569159,\n 0.06950480468569159,\n 0.06933752452815364,\n 0.06933752452815364,\n 0.06933752452815364,\n 0.06933752452815364,\n 0.06933752452815364,\n 0.06868028197434452,\n 0.06868028197434452,\n 0.06804138174397717,\n 0.06804138174397717,\n 0.06804138174397717,\n 0.06804138174397717,\n 0.06804138174397717,\n 0.06804138174397717,\n 0.06804138174397717,\n 0.06804138174397717,\n 0.06804138174397717,\n 0.06804138174397717,\n 0.06804138174397717,\n 0.06804138174397717,\n 0.06804138174397717,\n 0.06804138174397717,\n 0.06804138174397717,\n 0.06804138174397717,\n 0.06804138174397717,\n 0.06804138174397717,\n 0.06804138174397717,\n 0.06804138174397717,\n 0.06804138174397717,\n 0.06804138174397717,\n 0.06804138174397717,\n 0.06804138174397717,\n 0.06804138174397717,\n 0.06804138174397717,\n 0.06741998624632421,\n 0.06741998624632421,\n 0.06741998624632421,\n 0.06741998624632421,\n 0.06741998624632421,\n 0.0668153104781061,\n 0.0668153104781061,\n 0.0668153104781061,\n 0.0668153104781061,\n 0.0668153104781061,\n 0.06666666666666667,\n 0.06666666666666667,\n 0.06666666666666667,\n 0.06666666666666667,\n 0.06666666666666667,\n 0.06666666666666667,\n 0.06666666666666667,\n 0.06666666666666667,\n 0.06666666666666667,\n 0.06666666666666667,\n 0.06666666666666667,\n 0.06666666666666667,\n 0.06666666666666667,\n 0.06666666666666667,\n 0.06666666666666667,\n 0.06666666666666667,\n 0.06666666666666667,\n 0.06666666666666667,\n 0.06666666666666667,\n 0.06666666666666667,\n 0.06666666666666667,\n 0.06666666666666667,\n 0.06622661785325219,\n 0.06565321642986127,\n 0.06565321642986127,\n 0.06565321642986127,\n 0.06537204504606134,\n 0.06537204504606134,\n 0.06537204504606134,\n 0.06537204504606134,\n 0.06537204504606134,\n 0.06537204504606134,\n 0.06537204504606134,\n 0.06537204504606134,\n 0.06537204504606134,\n 0.06537204504606134,\n 0.06537204504606134,\n 0.06537204504606134,\n 0.06537204504606134,\n 0.06537204504606134,\n 0.06537204504606134,\n 0.06537204504606134,\n 0.06537204504606134,\n 0.06537204504606134,\n 0.06537204504606134,\n 0.06537204504606134,\n 0.06509445549041194,\n 0.06509445549041193,\n 0.06509445549041193,\n 0.06454972243679027,\n 0.06454972243679027,\n 0.06454972243679027,\n 0.06415002990995841,\n 0.06415002990995841,\n 0.06415002990995841,\n 0.06415002990995841,\n 0.06415002990995841,\n 0.06415002990995841,\n 0.06415002990995841,\n 0.06415002990995841,\n 0.06415002990995841,\n 0.06415002990995841,\n 0.06415002990995841,\n 0.06415002990995841,\n 0.06415002990995841,\n 0.06415002990995841,\n 0.06401843996644799,\n 0.06350006350009524,\n 0.06350006350009524,\n 0.06350006350009524,\n 0.06327719971683327,\n 0.0629940788348712,\n 0.0629940788348712,\n 0.0629940788348712,\n 0.0629940788348712,\n 0.0629940788348712,\n 0.0629940788348712,\n 0.0629940788348712,\n 0.0629940788348712,\n 0.0629940788348712,\n 0.0629940788348712,\n 0.0629940788348712,\n 0.0629940788348712,\n 0.0629940788348712,\n 0.0629940788348712,\n 0.0629940788348712,\n 0.0629940788348712,\n 0.0629940788348712,\n 0.0629940788348712,\n 0.0629940788348712,\n 0.0629940788348712,\n 0.062017367294604234,\n 0.062017367294604234,\n 0.062017367294604234,\n 0.06189844605901729,\n 0.06189844605901729,\n 0.06189844605901729,\n 0.06189844605901729,\n 0.06189844605901729,\n 0.06189844605901729,\n 0.06189844605901729,\n 0.06189844605901729,\n 0.06189844605901729,\n 0.06189844605901729,\n 0.06189844605901729,\n ...]"
     },
     "execution_count": 33,
     "metadata": {},
     "output_type": "execute_result"
    }
   ],
   "source": [
    "sorted(similarity[0],reverse=True)\n",
    "#ISSUE: we want to print 2-6th (5 most similar movie) but we need the index for each value"
   ]
  },
  {
   "cell_type": "code",
   "execution_count": 34,
   "id": "8c4cbf2b",
   "metadata": {
    "scrolled": false,
    "id": "8c4cbf2b",
    "outputId": "81d23b7a-ddcd-4544-eeca-72a916ee94a7",
    "pycharm": {
     "name": "#%%\n"
    }
   },
   "outputs": [
    {
     "data": {
      "text/plain": "[(1194, 0.28426762180748055),\n (539, 0.28171808490950556),\n (507, 0.2672612419124244),\n (582, 0.26190476190476186),\n (1216, 0.26064301757134345)]"
     },
     "execution_count": 34,
     "metadata": {},
     "output_type": "execute_result"
    }
   ],
   "source": [
    "sorted(list(enumerate(similarity[0])),reverse=True,key=lambda x:x[1])[1:6]"
   ]
  },
  {
   "cell_type": "code",
   "execution_count": 34,
   "id": "252bbf30",
   "metadata": {
    "id": "252bbf30",
    "pycharm": {
     "name": "#%%\n"
    }
   },
   "outputs": [],
   "source": []
  },
  {
   "cell_type": "code",
   "execution_count": 34,
   "id": "0a5091af",
   "metadata": {
    "id": "0a5091af",
    "pycharm": {
     "name": "#%%\n"
    }
   },
   "outputs": [],
   "source": []
  },
  {
   "cell_type": "code",
   "execution_count": 35,
   "id": "ffe3917e",
   "metadata": {
    "id": "ffe3917e",
    "pycharm": {
     "name": "#%%\n"
    }
   },
   "outputs": [],
   "source": [
    "def recommend(movie):\n",
    "    movie_index = new_df[new_df['title'] == movie].index[0]\n",
    "    distances = similarity[movie_index]\n",
    "    movies_list = sorted(list(enumerate(distances)),reverse=True,key = lambda x: x[1])[1:6]\n",
    "    \n",
    "    for i in movies_list:\n",
    "        print(new_df.iloc[i[0]].title)"
   ]
  },
  {
   "cell_type": "code",
   "execution_count": 36,
   "id": "94706ec3",
   "metadata": {
    "id": "94706ec3",
    "outputId": "6091499e-d89f-44a2-8e26-aed761103389",
    "pycharm": {
     "name": "#%%\n"
    }
   },
   "outputs": [
    {
     "name": "stdout",
     "output_type": "stream",
     "text": [
      "Gandhi, My Father\n",
      "The Wind That Shakes the Barley\n",
      "A Passage to India\n",
      "Guiana 1838\n",
      "Ramanujan\n"
     ]
    }
   ],
   "source": [
    "recommend('Gandhi')"
   ]
  },
  {
   "cell_type": "code",
   "execution_count": 42,
   "id": "166d5f2c",
   "metadata": {
    "id": "166d5f2c",
    "pycharm": {
     "name": "#%%\n"
    }
   },
   "outputs": [
    {
     "name": "stdout",
     "output_type": "stream",
     "text": [
      "Caravans\n",
      "Moonlight Mile\n",
      "The Slaughter Rule\n",
      "Breaking Upwards\n",
      "Ong Bak 2\n"
     ]
    }
   ],
   "source": [
    "recommend('The Wind That Shakes the Barley')"
   ]
  },
  {
   "cell_type": "code",
   "execution_count": 46,
   "outputs": [
    {
     "name": "stdout",
     "output_type": "stream",
     "text": [
      "A Guy Named Joe\n",
      "Firefox\n",
      "Broken Arrow\n",
      "Highway\n",
      "Pearl Harbor\n"
     ]
    }
   ],
   "source": [
    "recommend('Top Gun')"
   ],
   "metadata": {
    "collapsed": false,
    "pycharm": {
     "name": "#%%\n"
    }
   }
  },
  {
   "cell_type": "code",
   "execution_count": 48,
   "outputs": [
    {
     "name": "stdout",
     "output_type": "stream",
     "text": [
      "Mission: Impossible II\n",
      "Mission: Impossible III\n",
      "Bad Company\n",
      "The November Man\n",
      "Dying of the Light\n"
     ]
    }
   ],
   "source": [
    "recommend('Mission: Impossible')"
   ],
   "metadata": {
    "collapsed": false,
    "pycharm": {
     "name": "#%%\n"
    }
   }
  },
  {
   "cell_type": "code",
   "execution_count": 37,
   "id": "5bd99539",
   "metadata": {
    "id": "5bd99539",
    "outputId": "47edd132-1f7a-48cb-d212-8ff2097f0ce3",
    "pycharm": {
     "name": "#%%\n"
    }
   },
   "outputs": [
    {
     "name": "stdout",
     "output_type": "stream",
     "text": [
      "Note: you may need to restart the kernel to use updated packages.\n"
     ]
    },
    {
     "name": "stderr",
     "output_type": "stream",
     "text": [
      "ERROR: Could not find a version that satisfies the requirement pickle (from versions: none)\n",
      "ERROR: No matching distribution found for pickle\n"
     ]
    }
   ],
   "source": [
    "! pip install pickle"
   ]
  },
  {
   "cell_type": "code",
   "execution_count": 38,
   "id": "32edbffd",
   "metadata": {
    "id": "32edbffd",
    "pycharm": {
     "name": "#%%\n"
    }
   },
   "outputs": [],
   "source": [
    "import pickle"
   ]
  },
  {
   "cell_type": "code",
   "execution_count": 39,
   "id": "83a0ab72",
   "metadata": {
    "id": "83a0ab72",
    "outputId": "9cbc14fa-ef2f-4eb9-fda9-cc8bfa159301",
    "pycharm": {
     "name": "#%%\n"
    }
   },
   "outputs": [
    {
     "data": {
      "text/plain": "array(['Avatar', \"Pirates of the Caribbean: At World's End\", 'Spectre',\n       ..., 'Signed, Sealed, Delivered', 'Shanghai Calling',\n       'My Date with Drew'], dtype=object)"
     },
     "execution_count": 39,
     "metadata": {},
     "output_type": "execute_result"
    }
   ],
   "source": [
    "new_df['title'].values"
   ]
  },
  {
   "cell_type": "code",
   "execution_count": 40,
   "id": "e9a3477b",
   "metadata": {
    "id": "e9a3477b",
    "pycharm": {
     "name": "#%%\n"
    }
   },
   "outputs": [],
   "source": [
    "pickle.dump(new_df.to_dict(),open('movie_dict.pkl','wb'))"
   ]
  },
  {
   "cell_type": "code",
   "execution_count": 41,
   "id": "573bccb9",
   "metadata": {
    "id": "573bccb9",
    "pycharm": {
     "name": "#%%\n"
    }
   },
   "outputs": [],
   "source": [
    "pickle.dump(new_df.to_dict(),open('similarity1.pkl','wb'))"
   ]
  }
 ],
 "metadata": {
  "kernelspec": {
   "display_name": "Python 3 (ipykernel)",
   "language": "python",
   "name": "python3"
  },
  "language_info": {
   "codemirror_mode": {
    "name": "ipython",
    "version": 3
   },
   "file_extension": ".py",
   "mimetype": "text/x-python",
   "name": "python",
   "nbconvert_exporter": "python",
   "pygments_lexer": "ipython3",
   "version": "3.9.7"
  },
  "colab": {
   "provenance": []
  }
 },
 "nbformat": 4,
 "nbformat_minor": 5
}